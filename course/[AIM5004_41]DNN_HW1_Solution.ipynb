{
  "nbformat": 4,
  "nbformat_minor": 0,
  "metadata": {
    "colab": {
      "name": "심층신경망 과제1 답안.ipynb",
      "provenance": [],
      "collapsed_sections": []
    },
    "kernelspec": {
      "name": "python3",
      "display_name": "Python 3"
    },
    "language_info": {
      "name": "python"
    }
  },
  "cells": [
    {
      "cell_type": "code",
      "execution_count": 1,
      "metadata": {
        "colab": {
          "base_uri": "https://localhost:8080/"
        },
        "id": "R9DKe_AwdhOQ",
        "outputId": "1f289f77-6efa-4951-ccec-0cad32f0f35f"
      },
      "outputs": [
        {
          "output_type": "stream",
          "name": "stdout",
          "text": [
            "Drive already mounted at /content/drive; to attempt to forcibly remount, call drive.mount(\"/content/drive\", force_remount=True).\n"
          ]
        }
      ],
      "source": [
        "from google.colab import drive\n",
        "drive.mount('/content/drive')"
      ]
    },
    {
      "cell_type": "code",
      "source": [
        "!pip install idx2numpy --quiet"
      ],
      "metadata": {
        "id": "-of2zasEecjD"
      },
      "execution_count": 2,
      "outputs": []
    },
    {
      "cell_type": "code",
      "source": [
        "import idx2numpy\n",
        "import gzip\n",
        "import numpy as np\n",
        "import matplotlib.pyplot as plt\n",
        "import time\n",
        "import os\n",
        "from collections import OrderedDict"
      ],
      "metadata": {
        "id": "1w21MyoUeZ7z"
      },
      "execution_count": 3,
      "outputs": []
    },
    {
      "cell_type": "markdown",
      "source": [
        "## Data load"
      ],
      "metadata": {
        "id": "4CIFjWOWemwX"
      }
    },
    {
      "cell_type": "code",
      "source": [
        "def label_to_array(f, num_data):\n",
        "    f.read(8)\n",
        "    labels = []\n",
        "    for _ in range(num_data):\n",
        "        buf = f.read(1)\n",
        "        label = np.frombuffer(buf, dtype = np.uint8).astype(np.int64)[0]\n",
        "        labels.append(label)\n",
        "    return labels\n",
        "\n",
        "data_path = \"./drive/MyDrive\"\n",
        "f = gzip.open(os.path.join(data_path, 'train-images-idx3-ubyte.gz'), 'r')\n",
        "train_X = np.array(idx2numpy.convert_from_file(f) / 255)\n",
        "f = gzip.open(os.path.join(data_path, 't10k-images-idx3-ubyte.gz'), 'r')\n",
        "test_X = np.array(idx2numpy.convert_from_file(f) / 255)\n",
        "f = gzip.open(os.path.join(data_path, 'train-labels-idx1-ubyte.gz'), 'r')\n",
        "train_y = np.array(label_to_array(f, train_X.shape[0]))\n",
        "f = gzip.open(os.path.join(data_path, 't10k-labels-idx1-ubyte.gz'), 'r')\n",
        "test_y = np.array(label_to_array(f, test_X.shape[0]))\n",
        "del f"
      ],
      "metadata": {
        "id": "T4U5rD50ejuU"
      },
      "execution_count": 4,
      "outputs": []
    },
    {
      "cell_type": "code",
      "source": [
        "# one-hot encoding\n",
        "train_Y = np.zeros((len(train_y),10))\n",
        "test_Y = np.zeros((len(test_y),10))\n",
        "for i in range(len(train_y)):\n",
        "    tmp = train_y[i]\n",
        "    train_Y[i][tmp] = 1\n",
        "for i in range(len(test_y)):\n",
        "    tmp = test_y[i]\n",
        "    test_Y[i][tmp] = 1\n",
        "print(train_Y.shape)\n",
        "print(test_Y.shape)"
      ],
      "metadata": {
        "colab": {
          "base_uri": "https://localhost:8080/"
        },
        "id": "7tDPEKZ0UmIL",
        "outputId": "98dd0b05-9c5f-4e1e-abfe-bbb64cbe0f75"
      },
      "execution_count": 5,
      "outputs": [
        {
          "output_type": "stream",
          "name": "stdout",
          "text": [
            "(60000, 10)\n",
            "(10000, 10)\n"
          ]
        }
      ]
    },
    {
      "cell_type": "markdown",
      "source": [
        "## Data statistics and visualization"
      ],
      "metadata": {
        "id": "TAib1BkXfjVp"
      }
    },
    {
      "cell_type": "code",
      "source": [
        "# data statistics\n",
        "num_trainset = train_X.shape[0]\n",
        "num_testset = test_X.shape[0]\n",
        "H, W = train_X.shape[1], train_X.shape[2]\n",
        "class_, counts = np.unique(train_y, return_counts = True)\n",
        "num_class = len(class_)\n",
        "\n",
        "print(\"<data statistics>\")\n",
        "print(f\"the number of train image: {num_trainset}\")\n",
        "print(f\"the number of test image: {num_testset}\")\n",
        "print(f\"image size: {H} X {W}\")\n",
        "print(f\"the number of class: {num_class}\")\n",
        "print(f\"the number of images per each class: {dict(zip(class_, counts))}\")\n",
        "\n",
        "# visualize\n",
        "show = 3\n",
        "fig = plt.figure(figsize = (30, show * 3))\n",
        "for n in range(num_class):\n",
        "    idx = np.where(train_y == np.array([n]))[0]\n",
        "    idx = np.random.choice(idx, show)\n",
        "    x = train_X[idx]\n",
        "    for i in range(show):\n",
        "        plt.subplot(show, num_class, n + 1 + 10 * i)\n",
        "        plt.imshow(x[i], cmap = plt.cm.binary)"
      ],
      "metadata": {
        "colab": {
          "base_uri": "https://localhost:8080/",
          "height": 476
        },
        "id": "sHjnfCGyfHOO",
        "outputId": "a8f53f42-9e46-4d34-efda-d7d00050c0d8"
      },
      "execution_count": 6,
      "outputs": [
        {
          "output_type": "stream",
          "name": "stdout",
          "text": [
            "<data statistics>\n",
            "the number of train image: 60000\n",
            "the number of test image: 10000\n",
            "image size: 28 X 28\n",
            "the number of class: 10\n",
            "the number of images per each class: {0: 5923, 1: 6742, 2: 5958, 3: 6131, 4: 5842, 5: 5421, 6: 5918, 7: 6265, 8: 5851, 9: 5949}\n"
          ]
        },
        {
          "output_type": "display_data",
          "data": {
            "text/plain": [
              "<Figure size 2160x648 with 30 Axes>"
            ],
            "image/png": "[encoded data removed]"
          },
          "metadata": {
            "needs_background": "light"
          }
        }
      ]
    },
    {
      "cell_type": "markdown",
      "source": [
        "## Forward & Backward"
      ],
      "metadata": {
        "id": "LMOMzYdOfyBA"
      }
    },
    {
      "cell_type": "code",
      "source": [
        "def identity_function(x):\n",
        "    return x\n",
        "\n",
        "\n",
        "def step_function(x):\n",
        "    return np.array(x > 0, dtype=np.int)\n",
        "\n",
        "\n",
        "def sigmoid(x):\n",
        "    return 1 / (1 + np.exp(-x))    \n",
        "\n",
        "\n",
        "def sigmoid_grad(x):\n",
        "    return (1.0 - sigmoid(x)) * sigmoid(x)\n",
        "    \n",
        "\n",
        "def relu(x):\n",
        "    return np.maximum(0, x)\n",
        "\n",
        "\n",
        "def relu_grad(x):\n",
        "    grad = np.zeros(x)\n",
        "    grad[x>=0] = 1\n",
        "    return grad\n",
        "    \n",
        "\n",
        "def softmax(x):\n",
        "    if x.ndim == 2:\n",
        "        x = x.T\n",
        "        x = x - np.max(x, axis=0)\n",
        "        y = np.exp(x) / np.sum(np.exp(x), axis=0)\n",
        "        return y.T \n",
        "\n",
        "    x = x - np.max(x) # 오버플로 대책\n",
        "    return np.exp(x) / np.sum(np.exp(x))\n",
        "\n",
        "\n",
        "def mean_squared_error(y, t):\n",
        "    return 0.5 * np.sum((y-t)**2)\n",
        "\n",
        "\n",
        "def cross_entropy_error(y, t):\n",
        "    if y.ndim == 1:\n",
        "        t = t.reshape(1, t.size)\n",
        "        y = y.reshape(1, y.size)\n",
        "        \n",
        "    # 훈련 데이터가 원-핫 벡터라면 정답 레이블의 인덱스로 반환\n",
        "    if t.size == y.size:\n",
        "        t = t.argmax(axis=1)\n",
        "             \n",
        "    batch_size = y.shape[0]\n",
        "    return -np.sum(np.log(y[np.arange(batch_size), t] + 1e-7)) / batch_size\n",
        "\n",
        "\n",
        "def softmax_loss(X, t):\n",
        "    y = softmax(X)\n",
        "    return cross_entropy_error(y, t)"
      ],
      "metadata": {
        "id": "2W6Nbo1HgcUR"
      },
      "execution_count": 7,
      "outputs": []
    },
    {
      "cell_type": "code",
      "source": [
        "class Relu:\n",
        "    def __init__(self):\n",
        "        self.mask = None\n",
        "\n",
        "    def forward(self, x):\n",
        "        self.mask = (x <= 0)\n",
        "        out = x.copy()\n",
        "        out[self.mask] = 0\n",
        "\n",
        "        return out\n",
        "\n",
        "    def backward(self, dout):\n",
        "        dout[self.mask] = 0\n",
        "        dx = dout\n",
        "\n",
        "        return dx\n",
        "\n",
        "\n",
        "class Sigmoid:\n",
        "    def __init__(self):\n",
        "        self.out = None\n",
        "\n",
        "    def forward(self, x):\n",
        "        out = sigmoid(x)\n",
        "        self.out = out\n",
        "        return out\n",
        "\n",
        "    def backward(self, dout):\n",
        "        dx = dout * (1.0 - self.out) * self.out\n",
        "\n",
        "        return dx\n",
        "\n",
        "\n",
        "class Affine:\n",
        "    def __init__(self, W, b):\n",
        "        self.W = W\n",
        "        self.b = b\n",
        "        \n",
        "        self.x = None\n",
        "        self.original_x_shape = None\n",
        "        # 가중치와 편향 매개변수의 미분\n",
        "        self.dW = None\n",
        "        self.db = None\n",
        "\n",
        "    def forward(self, x):\n",
        "        # 텐서 대응\n",
        "        self.original_x_shape = x.shape\n",
        "        x = x.reshape(x.shape[0], -1)\n",
        "        self.x = x\n",
        "\n",
        "        out = np.dot(self.x, self.W) + self.b\n",
        "\n",
        "        return out\n",
        "\n",
        "    def backward(self, dout):\n",
        "        dx = np.dot(dout, self.W.T)\n",
        "        self.dW = np.dot(self.x.T, dout)\n",
        "        self.db = np.sum(dout, axis=0)\n",
        "        \n",
        "        dx = dx.reshape(*self.original_x_shape)  # 입력 데이터 모양 변경(텐서 대응)\n",
        "        return dx\n",
        "\n",
        "\n",
        "class SoftmaxWithLoss:\n",
        "    def __init__(self):\n",
        "        self.loss = None # 손실함수\n",
        "        self.y = None    # softmax의 출력\n",
        "        self.t = None    # 정답 레이블(원-핫 인코딩 형태)\n",
        "        \n",
        "    def forward(self, x, t):\n",
        "        self.t = t\n",
        "        self.y = softmax(x)\n",
        "        self.loss = cross_entropy_error(self.y, self.t)\n",
        "        \n",
        "        return self.loss\n",
        "\n",
        "    def backward(self, dout=1):\n",
        "        batch_size = self.t.shape[0]\n",
        "        if self.t.size == self.y.size: # 정답 레이블이 원-핫 인코딩 형태일 때\n",
        "            dx = (self.y - self.t) / batch_size\n",
        "        else:\n",
        "            dx = self.y.copy()\n",
        "            dx[np.arange(batch_size), self.t] -= 1\n",
        "            dx = dx / batch_size\n",
        "        \n",
        "        return dx"
      ],
      "metadata": {
        "id": "9_thYFV4gV2X"
      },
      "execution_count": 8,
      "outputs": []
    },
    {
      "cell_type": "code",
      "source": [
        "def _numerical_gradient_1d(f, x):\n",
        "    h = 1e-4 # 0.0001\n",
        "    grad = np.zeros_like(x)\n",
        "    \n",
        "    for idx in range(x.size):\n",
        "        tmp_val = x[idx]\n",
        "        x[idx] = float(tmp_val) + h\n",
        "        fxh1 = f(x) # f(x+h)\n",
        "        \n",
        "        x[idx] = tmp_val - h \n",
        "        fxh2 = f(x) # f(x-h)\n",
        "        grad[idx] = (fxh1 - fxh2) / (2*h)\n",
        "        \n",
        "        x[idx] = tmp_val # 값 복원\n",
        "        \n",
        "    return grad\n",
        "\n",
        "\n",
        "def numerical_gradient_2d(f, X):\n",
        "    if X.ndim == 1:\n",
        "        return _numerical_gradient_1d(f, X)\n",
        "    else:\n",
        "        grad = np.zeros_like(X)\n",
        "        \n",
        "        for idx, x in enumerate(X):\n",
        "            grad[idx] = _numerical_gradient_1d(f, x)\n",
        "        \n",
        "        return grad\n",
        "\n",
        "\n",
        "def numerical_gradient(f, x):\n",
        "    h = 1e-4 # 0.0001\n",
        "    grad = np.zeros_like(x)\n",
        "    \n",
        "    it = np.nditer(x, flags=['multi_index'], op_flags=['readwrite'])\n",
        "    while not it.finished:\n",
        "        idx = it.multi_index\n",
        "        tmp_val = x[idx]\n",
        "        x[idx] = float(tmp_val) + h\n",
        "        fxh1 = f(x) # f(x+h)\n",
        "        \n",
        "        x[idx] = tmp_val - h \n",
        "        fxh2 = f(x) # f(x-h)\n",
        "        grad[idx] = (fxh1 - fxh2) / (2*h)\n",
        "        \n",
        "        x[idx] = tmp_val # 값 복원\n",
        "        it.iternext()   \n",
        "        \n",
        "    return grad"
      ],
      "metadata": {
        "id": "IidOpNUBginz"
      },
      "execution_count": 9,
      "outputs": []
    },
    {
      "cell_type": "code",
      "source": [
        "class TwoLayerNet:\n",
        "\n",
        "    def __init__(self, input_size, hidden_size, output_size, weight_init_std = 0.01):\n",
        "        # 가중치 초기화\n",
        "        self.params = {}\n",
        "        self.params['W1'] = weight_init_std * np.random.randn(input_size, hidden_size)\n",
        "        self.params['b1'] = np.zeros(hidden_size)\n",
        "        self.params['W2'] = weight_init_std * np.random.randn(hidden_size, hidden_size) \n",
        "        self.params['b2'] = np.zeros(hidden_size)\n",
        "        self.params['W3'] = weight_init_std * np.random.randn(hidden_size, output_size)\n",
        "        self.params['b3'] = np.zeros(output_size)\n",
        "\n",
        "        # 계층 생성\n",
        "        self.layers = OrderedDict()\n",
        "        self.layers['Affine1'] = Affine(self.params['W1'], self.params['b1'])\n",
        "        self.layers['Relu1'] = Relu()\n",
        "        self.layers['Affine2'] = Affine(self.params['W2'], self.params['b2'])\n",
        "        self.layers['Relu2'] = Relu()\n",
        "        self.layers['Affine3'] = Affine(self.params['W3'], self.params['b3'])\n",
        "\n",
        "        self.lastLayer = SoftmaxWithLoss()\n",
        "        \n",
        "    def predict(self, x):\n",
        "        x = x.reshape(-1, 28*28)  # flatten\n",
        "\n",
        "        for layer in self.layers.values():\n",
        "            x = layer.forward(x)\n",
        "        \n",
        "        return x\n",
        "        \n",
        "    # x : 입력 데이터, t : 정답 레이블\n",
        "    def loss(self, x, t):\n",
        "        y = self.predict(x)\n",
        "        return self.lastLayer.forward(y, t)\n",
        "    \n",
        "    def accuracy(self, x, t):\n",
        "        y = self.predict(x)\n",
        "        y = np.argmax(y, axis=1)\n",
        "        if t.ndim != 1 : t = np.argmax(t, axis=1)\n",
        "        \n",
        "        accuracy = np.sum(y == t) / float(x.shape[0])\n",
        "        return accuracy\n",
        "        \n",
        "    # x : 입력 데이터, t : 정답 레이블\n",
        "    def numerical_gradient(self, x, t):\n",
        "        loss_W = lambda W: self.loss(x, t)\n",
        "        \n",
        "        grads = {}\n",
        "        grads['W1'] = numerical_gradient(loss_W, self.params['W1'])\n",
        "        grads['b1'] = numerical_gradient(loss_W, self.params['b1'])\n",
        "        grads['W2'] = numerical_gradient(loss_W, self.params['W2'])\n",
        "        grads['b2'] = numerical_gradient(loss_W, self.params['b2'])\n",
        "        grads['W3'] = numerical_gradient(loss_W, self.params['W3'])\n",
        "        grads['b3'] = numerical_gradient(loss_W, self.params['b3'])\n",
        "        \n",
        "        return grads\n",
        "        \n",
        "    def gradient(self, x, t):\n",
        "        # forward\n",
        "        self.loss(x, t)\n",
        "\n",
        "        # backward\n",
        "        dout = 1\n",
        "        dout = self.lastLayer.backward(dout)\n",
        "        \n",
        "        layers = list(self.layers.values())\n",
        "        layers.reverse()\n",
        "        for layer in layers:\n",
        "            dout = layer.backward(dout)\n",
        "\n",
        "        # 결과 저장\n",
        "        grads = {}\n",
        "        grads['W1'], grads['b1'] = self.layers['Affine1'].dW, self.layers['Affine1'].db\n",
        "        grads['W2'], grads['b2'] = self.layers['Affine2'].dW, self.layers['Affine2'].db\n",
        "        grads['W3'], grads['b3'] = self.layers['Affine3'].dW, self.layers['Affine3'].db\n",
        "\n",
        "        return grads"
      ],
      "metadata": {
        "id": "Gq_8qXjIfoJG"
      },
      "execution_count": 10,
      "outputs": []
    },
    {
      "cell_type": "markdown",
      "source": [
        "## Check gradient"
      ],
      "metadata": {
        "id": "Cn5wxsZrlZwE"
      }
    },
    {
      "cell_type": "code",
      "source": [
        "net = TwoLayerNet(input_size=784, hidden_size=128, output_size=10)"
      ],
      "metadata": {
        "id": "3EJVLru2hb9x"
      },
      "execution_count": 11,
      "outputs": []
    },
    {
      "cell_type": "code",
      "source": [
        "numerical_grad = net.numerical_gradient(train_X[0:1], train_Y[0:1])"
      ],
      "metadata": {
        "id": "JYDvs-UhiKnZ"
      },
      "execution_count": 12,
      "outputs": []
    },
    {
      "cell_type": "code",
      "source": [
        "backpropagation_grad = net.gradient(train_X[0:1], train_Y[0:1])"
      ],
      "metadata": {
        "id": "Q5wO6pwHV8AK"
      },
      "execution_count": 13,
      "outputs": []
    },
    {
      "cell_type": "code",
      "source": [
        "print(\"Difference between numerical and backpropagation\")\n",
        "for n, b in zip(numerical_grad.items(), backpropagation_grad.items()):\n",
        "    print(f\"Mean abs difference of {n[0]}:\", end=' ')\n",
        "    print(f\"{np.mean(np.abs(n[1]-b[1])):.4f}\")"
      ],
      "metadata": {
        "colab": {
          "base_uri": "https://localhost:8080/"
        },
        "id": "pg919W6NkA_2",
        "outputId": "cd2b7998-6fc3-43ec-cb1d-5f3d0cd617a2"
      },
      "execution_count": 14,
      "outputs": [
        {
          "output_type": "stream",
          "name": "stdout",
          "text": [
            "Difference between numerical and backpropagation\n",
            "Mean abs difference of W1: 0.0000\n",
            "Mean abs difference of b1: 0.0000\n",
            "Mean abs difference of W2: 0.0000\n",
            "Mean abs difference of b2: 0.0000\n",
            "Mean abs difference of W3: 0.0000\n",
            "Mean abs difference of b3: 0.0000\n"
          ]
        }
      ]
    },
    {
      "cell_type": "markdown",
      "source": [
        "## Implement SGD and Train"
      ],
      "metadata": {
        "id": "J3TcOYxnm5NW"
      }
    },
    {
      "cell_type": "code",
      "source": [
        "# log lists\n",
        "train_loss_list = []\n",
        "train_acc_list = []\n",
        "test_loss_list = []\n",
        "test_acc_list = []\n",
        "\n",
        "# hyper parameters\n",
        "epochs = 10\n",
        "batch_size = 100\n",
        "train_size = train_X.shape[0]\n",
        "lr = 0.1  # learning rate\n",
        "\n",
        "# init network\n",
        "network = TwoLayerNet(input_size=784, hidden_size=128, output_size=10)\n",
        "\n",
        "for epoch in range(epochs):\n",
        "    for b in range(0,train_size, batch_size):\n",
        "        x_batch = train_X[b:b+batch_size]\n",
        "        y_batch = train_Y[b:b+batch_size]\n",
        "\n",
        "        # calculate gradient by backpropagation\n",
        "        grad = network.gradient(x_batch, y_batch)\n",
        "\n",
        "        # update(SGD)\n",
        "        for k in grad.keys():\n",
        "            network.params[k] -= lr * grad[k]\n",
        "    \n",
        "    # caculate loss & accuracy\n",
        "    train_loss = network.loss(train_X, train_Y)\n",
        "    train_acc = network.accuracy(train_X, train_Y)\n",
        "    test_loss = network.loss(test_X, test_Y)\n",
        "    test_acc = network.accuracy(test_X, test_Y)\n",
        "    \n",
        "    # print and logging\n",
        "    print(f\"{epoch}/{epochs-1}\")\n",
        "    print(f\"train_loss: {train_loss:.4f}, train_acc: {train_acc:.4f}\")\n",
        "    print(f\"test_loss: {test_loss:.4f}, test_acc: {test_acc:.4f}\")\n",
        "    train_loss_list.append(train_loss)\n",
        "    train_acc_list.append(train_acc)\n",
        "    test_loss_list.append(test_loss)\n",
        "    test_acc_list.append(test_acc)"
      ],
      "metadata": {
        "colab": {
          "base_uri": "https://localhost:8080/"
        },
        "id": "YecHkysKXmL5",
        "outputId": "16174f7c-b7cb-43f9-ee4f-8fac570ebe50"
      },
      "execution_count": 15,
      "outputs": [
        {
          "output_type": "stream",
          "name": "stdout",
          "text": [
            "0/9\n",
            "train_loss: 0.5207, train_acc: 0.8383\n",
            "test_loss: 0.5087, test_acc: 0.8451\n",
            "1/9\n",
            "train_loss: 0.3175, train_acc: 0.9021\n",
            "test_loss: 0.3178, test_acc: 0.8989\n",
            "2/9\n",
            "train_loss: 0.2172, train_acc: 0.9339\n",
            "test_loss: 0.2184, test_acc: 0.9305\n",
            "3/9\n",
            "train_loss: 0.1627, train_acc: 0.9516\n",
            "test_loss: 0.1677, test_acc: 0.9482\n",
            "4/9\n",
            "train_loss: 0.1308, train_acc: 0.9613\n",
            "test_loss: 0.1399, test_acc: 0.9579\n",
            "5/9\n",
            "train_loss: 0.1107, train_acc: 0.9666\n",
            "test_loss: 0.1237, test_acc: 0.9625\n",
            "6/9\n",
            "train_loss: 0.0943, train_acc: 0.9717\n",
            "test_loss: 0.1111, test_acc: 0.9660\n",
            "7/9\n",
            "train_loss: 0.0827, train_acc: 0.9753\n",
            "test_loss: 0.1033, test_acc: 0.9674\n",
            "8/9\n",
            "train_loss: 0.0739, train_acc: 0.9776\n",
            "test_loss: 0.0980, test_acc: 0.9687\n",
            "9/9\n",
            "train_loss: 0.0661, train_acc: 0.9798\n",
            "test_loss: 0.0944, test_acc: 0.9706\n"
          ]
        }
      ]
    },
    {
      "cell_type": "code",
      "source": [
        "epochs = np.arange(0,10)\n",
        "plt.plot(epochs, train_loss_list, label='train')\n",
        "plt.plot(epochs, test_loss_list, label='test')\n",
        "plt.title(\"Loss plot\")\n",
        "plt.xlabel('epoch')\n",
        "plt.ylabel('loss')\n",
        "plt.legend()\n",
        "plt.show()"
      ],
      "metadata": {
        "colab": {
          "base_uri": "https://localhost:8080/",
          "height": 295
        },
        "id": "oV7BGwvebsuc",
        "outputId": "193d1f7c-2f51-4640-f452-1548e4e88a48"
      },
      "execution_count": 16,
      "outputs": [
        {
          "output_type": "display_data",
          "data": {
            "text/plain": [
              "<Figure size 432x288 with 1 Axes>"
            ],
            "image/png": "[encoded data removed]"
          },
          "metadata": {
            "needs_background": "light"
          }
        }
      ]
    },
    {
      "cell_type": "code",
      "source": [
        "epochs = np.arange(0,10)\n",
        "plt.plot(epochs, train_acc_list, label='train')\n",
        "plt.plot(epochs, test_acc_list, label='test')\n",
        "plt.title(\"Acc plot\")\n",
        "plt.xlabel('epoch')\n",
        "plt.ylabel('acc')\n",
        "plt.legend()\n",
        "plt.show()"
      ],
      "metadata": {
        "colab": {
          "base_uri": "https://localhost:8080/",
          "height": 295
        },
        "id": "jYCxk3j3k2nv",
        "outputId": "4e676775-5dbf-4f67-b15c-82b3d80e2ec1"
      },
      "execution_count": 17,
      "outputs": [
        {
          "output_type": "display_data",
          "data": {
            "text/plain": [
              "<Figure size 432x288 with 1 Axes>"
            ],
            "image/png": "[encoded data removed]"
          },
          "metadata": {
            "needs_background": "light"
          }
        }
      ]
    },
    {
      "cell_type": "markdown",
      "source": [
        "## (e)는 하이퍼파라미터를 변경하여 학습한 후 하나의 plot으로 비교하면 됩니다.\n",
        "코드는 생략합니다"
      ],
      "metadata": {
        "id": "tGAhtCIinEhy"
      }
    },
    {
      "cell_type": "code",
      "source": [
        ""
      ],
      "metadata": {
        "id": "sZahcHyIk94g"
      },
      "execution_count": 17,
      "outputs": []
    }
  ]
}