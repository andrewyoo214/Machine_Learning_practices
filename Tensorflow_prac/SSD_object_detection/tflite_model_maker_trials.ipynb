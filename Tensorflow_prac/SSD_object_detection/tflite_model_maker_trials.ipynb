{
 "cells": [
  {
   "cell_type": "code",
   "execution_count": null,
   "id": "15a750d7-c17a-4e13-b57d-699bb6d46ce1",
   "metadata": {},
   "outputs": [],
   "source": [
    "import os\n",
    "import time\n",
    "import numpy as np\n",
    "import pandas as pd\n",
    "import seaborn as sns\n",
    "import tensorflow as tf\n",
    "import matplotlib.pyplot as plt\n",
    "import sklearn.metrics as metrics"
   ]
  },
  {
   "cell_type": "code",
   "execution_count": null,
   "id": "0014e3aa-2a88-4451-93ce-772d3449601e",
   "metadata": {},
   "outputs": [],
   "source": [
    "from sklearn.model_selection import train_test_split, ParameterGrid\n",
    "from sklearn.preprocessing import MinMaxScaler\n",
    "from sklearn import decomposition\n",
    "from sklearn.manifold import TSNE\n",
    "from sklearn.cluster import KMeans\n",
    "from sklearn.linear_model import LogisticRegression\n",
    "from sklearn.semi_supervised import LabelPropagation, LabelSpreading\n",
    "from sklearn.metrics import roc_auc_score, accuracy_score\n",
    "from sklearn.feature_extraction.text import CountVectorizer\n",
    "\n",
    "# scaler = MinMaxScaler() #set the scaler"
   ]
  },
  {
   "cell_type": "code",
   "execution_count": null,
   "id": "cab1bcfe-0193-4ff5-b1b2-3b404e53c6fe",
   "metadata": {},
   "outputs": [],
   "source": [
    "from tensorflow.keras.datasets import cifar100\n",
    "from tensorflow.keras.models import Sequential\n",
    "from tensorflow.keras.layers import Dense, Flatten, Conv2D, MaxPooling2D, Activation, Dropout\n",
    "from tensorflow.keras.losses import categorical_crossentropy\n",
    "from tensorflow.keras.optimizers import Adam\n",
    "from tensorflow.keras.utils import to_categorical\n",
    "from tensorflow.keras.callbacks import Callback, EarlyStopping\n",
    "# from keras.preprocessing.image import ImageDataGenerato"
   ]
  },
  {
   "cell_type": "code",
   "execution_count": null,
   "id": "07d2bcdf-00c3-4be6-ac78-5554ce2c0641",
   "metadata": {},
   "outputs": [],
   "source": [
    "print(tf.__version__)"
   ]
  },
  {
   "cell_type": "code",
   "execution_count": null,
   "id": "a1c8d304-c837-4710-a450-4bb5131dea97",
   "metadata": {},
   "outputs": [],
   "source": [
    "(X_train, y_train), (X_test, y_test) = cifar100.load_data()\n",
    "\n",
    "# Parse numbers as floats\n",
    "X_train = X_train.astype('float32')\n",
    "X_test = X_test.astype('float32')\n",
    "\n",
    "# Normalize data\n",
    "X_train = (X_train) / 255.\n",
    "X_test = (X_test) / 255.\n",
    "\n",
    "# number of classes\n",
    "nb_classes = len(np.unique(y_train))\n",
    "\n",
    "# Image size\n",
    "img_width, img_height, img_num_channels = 32, 32, 3\n",
    "input_shape = (img_width, img_height, img_num_channels)\n",
    "\n",
    "# convert class vectors to binary class matrices\n",
    "y_train = to_categorical(y_train, nb_classes)\n",
    "y_test = to_categorical(y_test, nb_classes)"
   ]
  },
  {
   "cell_type": "code",
   "execution_count": null,
   "id": "6df3e563-b488-4bfd-bde0-f092cee72b51",
   "metadata": {},
   "outputs": [],
   "source": []
  },
  {
   "cell_type": "code",
   "execution_count": null,
   "id": "9f47b714-e13c-43da-84af-3158b7b79ae4",
   "metadata": {},
   "outputs": [],
   "source": [
    "model = Sequential()\n",
    "# 128 and not only 32 filters because there are 100 classes. 32 filters gave bad results.\n",
    "model.add(Conv2D(128, (3, 3), padding='same', input_shape=X_train.shape[1:]))\n",
    "model.add(Activation('elu'))\n",
    "\n",
    "model.add(Conv2D(128, (3, 3)))\n",
    "model.add(Activation('elu'))\n",
    "model.add(MaxPooling2D(pool_size=(2, 2)))\n",
    "\n",
    "model.add(Conv2D(256, (3, 3), padding='same'))\n",
    "model.add(Activation('elu'))\n",
    "\n",
    "model.add(Conv2D(256, (3, 3)))\n",
    "model.add(Activation('elu'))\n",
    "model.add(MaxPooling2D(pool_size=(2, 2)))\n",
    "model.add(Dropout(0.25))\n",
    "\n",
    "model.add(Conv2D(512, (3, 3), padding='same'))\n",
    "model.add(Activation('elu'))\n",
    "\n",
    "model.add(Conv2D(512, (3, 3)))\n",
    "model.add(Activation('elu'))\n",
    "model.add(MaxPooling2D(pool_size=(2, 2)))\n",
    "model.add(Dropout(0.25))\n",
    "\n",
    "model.add(Flatten())\n",
    "model.add(Dense(1024))\n",
    "model.add(Activation('elu'))\n",
    "model.add(Dropout(0.5))\n",
    "model.add(Dense(nb_classes))\n",
    "model.add(Activation('softmax'))\n",
    "\n"
   ]
  },
  {
   "cell_type": "code",
   "execution_count": null,
   "id": "b5083180-5acb-4a0d-94d8-3fc7bc3f7bbf",
   "metadata": {},
   "outputs": [],
   "source": [
    "model.summary()"
   ]
  },
  {
   "cell_type": "code",
   "execution_count": null,
   "id": "84802df8-a054-4387-9569-aa5187afba84",
   "metadata": {},
   "outputs": [],
   "source": [
    "# # Compile the model\n",
    "# model.compile(loss='categorical_crossentropy', optimizer=Adam(learning_rate = 0.0001, decay = 1e-6), metrics=['accuracy'])"
   ]
  },
  {
   "cell_type": "code",
   "execution_count": null,
   "id": "0aed678a-2114-4da5-9afa-864518e1cdda",
   "metadata": {},
   "outputs": [],
   "source": [
    "lr_schedule = tf.keras.optimizers.schedules.ExponentialDecay(\n",
    "    initial_learning_rate=0.0001,\n",
    "    decay_steps=10000,\n",
    "    decay_rate=1e-6)"
   ]
  },
  {
   "cell_type": "code",
   "execution_count": null,
   "id": "e3dd7401-e1ab-40d7-bdc8-a073f8278452",
   "metadata": {},
   "outputs": [],
   "source": [
    "# Compile the model\n",
    "model.compile(loss='categorical_crossentropy', optimizer=tf.keras.optimizers.Adam(learning_rate = lr_schedule), metrics=['accuracy'])"
   ]
  },
  {
   "cell_type": "code",
   "execution_count": null,
   "id": "68b53675-0116-45cc-8f2e-26e239429ffe",
   "metadata": {},
   "outputs": [],
   "source": [
    "early_stop = EarlyStopping(monitor='loss', mode='min', verbose=1, patience=8, restore_best_weights = True)"
   ]
  },
  {
   "cell_type": "code",
   "execution_count": null,
   "id": "33a2816e-fb65-4e44-8b4b-2b5d9e08290c",
   "metadata": {},
   "outputs": [],
   "source": [
    "# # Fit data to model\n",
    "# history = model.fit(X_train, y_train, batch_size = 50, epochs=600, verbose=1)"
   ]
  },
  {
   "cell_type": "code",
   "execution_count": null,
   "id": "eb4c862a-ffc1-4e31-ba08-49688d58a5ce",
   "metadata": {},
   "outputs": [],
   "source": [
    "# Fit data to model\n",
    "# history = model.fit(X_train, y_train, batch_size = 100, epochs=10, verbose=1, callbacks=[early_stop])\n",
    "history = model.fit(X_train, y_train, batch_size = 100, epochs=2, verbose=1)"
   ]
  },
  {
   "cell_type": "code",
   "execution_count": null,
   "id": "546f0886-edb2-4422-bac6-ad06209220be",
   "metadata": {},
   "outputs": [],
   "source": []
  },
  {
   "cell_type": "code",
   "execution_count": null,
   "id": "25349748-a9d0-4c51-833d-190bf19a4f20",
   "metadata": {},
   "outputs": [],
   "source": []
  },
  {
   "cell_type": "markdown",
   "id": "f5e7dfec-ba71-4e96-97df-6aac4329e47c",
   "metadata": {},
   "source": [
    "* Model convert to tflite format"
   ]
  },
  {
   "cell_type": "code",
   "execution_count": null,
   "id": "6dc029bf-1cf0-476a-9ddd-6a8197fd3e7f",
   "metadata": {},
   "outputs": [],
   "source": [
    "from tflite_model_maker import model_spec\n",
    "from tflite_model_maker import image_classifier\n",
    "from tflite_model_maker.config import ExportFormat\n",
    "from tflite_model_maker.config import QuantizationConfig\n",
    "from tflite_model_maker.image_classifier import DataLoader\n",
    "from tflite_model_maker.image_classifier import ModelSpec"
   ]
  },
  {
   "cell_type": "code",
   "execution_count": null,
   "id": "9b5376c6-e4d5-4735-a51e-7a39db9802c4",
   "metadata": {},
   "outputs": [],
   "source": [
    "model.export(export_dir = \"E:/RESEARCH/Datasets/\")"
   ]
  },
  {
   "cell_type": "code",
   "execution_count": null,
   "id": "350440a8-bb87-4fd5-aadb-8ad3b5151425",
   "metadata": {},
   "outputs": [],
   "source": []
  },
  {
   "cell_type": "code",
   "execution_count": null,
   "id": "1debd377-455a-489f-b9c9-3712cae802ee",
   "metadata": {},
   "outputs": [],
   "source": []
  },
  {
   "cell_type": "code",
   "execution_count": null,
   "id": "4230a34d-f8ea-4ab0-86f6-bc1a4fc70bde",
   "metadata": {},
   "outputs": [],
   "source": []
  },
  {
   "cell_type": "code",
   "execution_count": null,
   "id": "c7e9c834-634d-438c-8709-40d6682ac326",
   "metadata": {},
   "outputs": [],
   "source": []
  },
  {
   "cell_type": "code",
   "execution_count": null,
   "id": "b8bdc56d-2b9b-4a5c-967e-a80854dac0b2",
   "metadata": {},
   "outputs": [],
   "source": []
  },
  {
   "cell_type": "code",
   "execution_count": null,
   "id": "a0b92be3-13e0-4907-aace-e4a4b1d53b8f",
   "metadata": {},
   "outputs": [],
   "source": []
  },
  {
   "cell_type": "code",
   "execution_count": null,
   "id": "da421ed7-729c-479a-a2a1-b83922c250ef",
   "metadata": {},
   "outputs": [],
   "source": []
  },
  {
   "cell_type": "code",
   "execution_count": null,
   "id": "ee9561e4-63f3-4a15-b60e-8deae541d3da",
   "metadata": {},
   "outputs": [],
   "source": []
  }
 ],
 "metadata": {
  "kernelspec": {
   "display_name": "Python 3 (ipykernel)",
   "language": "python",
   "name": "python3"
  },
  "language_info": {
   "codemirror_mode": {
    "name": "ipython",
    "version": 3
   },
   "file_extension": ".py",
   "mimetype": "text/x-python",
   "name": "python",
   "nbconvert_exporter": "python",
   "pygments_lexer": "ipython3",
   "version": "3.9.17"
  }
 },
 "nbformat": 4,
 "nbformat_minor": 5
}
