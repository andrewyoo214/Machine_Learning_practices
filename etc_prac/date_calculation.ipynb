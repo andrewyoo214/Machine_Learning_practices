{
 "cells": [
  {
   "cell_type": "markdown",
   "id": "255aa103-a76d-44d6-bdd8-f4eeb0dc346d",
   "metadata": {},
   "source": [
    "## Converting and Calculating datetime"
   ]
  },
  {
   "cell_type": "code",
   "execution_count": null,
   "id": "fa8de648-0a27-4728-88d0-80230d041448",
   "metadata": {},
   "outputs": [],
   "source": [
    "import pandas as pd\n",
    "from datetime import datetime, timedelta"
   ]
  },
  {
   "cell_type": "markdown",
   "id": "ae74f47e-b45b-42a1-8955-7bb57e28226d",
   "metadata": {},
   "source": [
    "* Calculating Time difference"
   ]
  },
  {
   "cell_type": "code",
   "execution_count": null,
   "id": "185388f9-e5ca-4d12-83fe-ea511d5ad3e2",
   "metadata": {},
   "outputs": [],
   "source": [
    "## dattime example\n",
    "time_start = datetime(2023, 11, 15)\n",
    "time_end = datetime(2024, 1, 10)"
   ]
  },
  {
   "cell_type": "code",
   "execution_count": null,
   "id": "e66d6dce-5581-42ea-bc24-65c949b795ef",
   "metadata": {},
   "outputs": [],
   "source": [
    "print(time_end - time_start)"
   ]
  },
  {
   "cell_type": "code",
   "execution_count": null,
   "id": "db01cf46-a95f-46e6-ab0a-9179e4f18128",
   "metadata": {},
   "outputs": [],
   "source": []
  },
  {
   "cell_type": "code",
   "execution_count": null,
   "id": "29175194-e75b-4b7b-bad7-03c972b81f75",
   "metadata": {},
   "outputs": [],
   "source": [
    "clinical_dates = pd.read_csv('./data/cli_dates.csv')"
   ]
  },
  {
   "cell_type": "code",
   "execution_count": null,
   "id": "b026d6f0-75c1-40bc-ab8e-0be9d25764b2",
   "metadata": {},
   "outputs": [],
   "source": [
    "clinical_dates['start_date'] = pd.to_datetime(clinical_dates['start_date'])\n",
    "clinical_dates['end_date'] = pd.to_datetime(clinical_dates['end_date'])"
   ]
  },
  {
   "cell_type": "code",
   "execution_count": null,
   "id": "bc84fba4-7d1c-4b70-a4f7-fe6bf81de09a",
   "metadata": {},
   "outputs": [],
   "source": [
    "clinical_dates.head()"
   ]
  },
  {
   "cell_type": "code",
   "execution_count": null,
   "id": "a2058ec8-097f-49ba-a814-6a350d35c9bf",
   "metadata": {},
   "outputs": [],
   "source": [
    "clinical_dates['total_date'] = clinical_dates['end_date'] - clinical_dates['start_date']"
   ]
  },
  {
   "cell_type": "code",
   "execution_count": null,
   "id": "b363f547-d451-4758-992a-56c957e5abde",
   "metadata": {},
   "outputs": [],
   "source": [
    "clinical_dates"
   ]
  },
  {
   "cell_type": "markdown",
   "id": "f2f6d0ca-5fd6-43a1-9407-3b9efd8f2bdb",
   "metadata": {},
   "source": [
    "* Export outcomes"
   ]
  },
  {
   "cell_type": "code",
   "execution_count": null,
   "id": "b230cca4-e391-4c65-9013-58b95258058f",
   "metadata": {},
   "outputs": [],
   "source": [
    "clinical_dates.to_csv(\"./data/clin_dates.csv\")"
   ]
  },
  {
   "cell_type": "code",
   "execution_count": null,
   "id": "ad8af393-0b59-4996-a9e2-f486d5ccb4eb",
   "metadata": {},
   "outputs": [],
   "source": []
  }
 ],
 "metadata": {
  "kernelspec": {
   "display_name": "Python 3",
   "language": "python",
   "name": "python3"
  },
  "language_info": {
   "codemirror_mode": {
    "name": "ipython",
    "version": 3
   },
   "file_extension": ".py",
   "mimetype": "text/x-python",
   "name": "python",
   "nbconvert_exporter": "python",
   "pygments_lexer": "ipython3",
   "version": "3.8.10"
  }
 },
 "nbformat": 4,
 "nbformat_minor": 5
}
