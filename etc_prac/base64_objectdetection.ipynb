{
 "cells": [
  {
   "cell_type": "markdown",
   "id": "5ec5db65-818b-407d-b00e-59ab97861bb7",
   "metadata": {},
   "source": [
    "# Using base64 format for the Object Detection"
   ]
  },
  {
   "cell_type": "code",
   "execution_count": 19,
   "id": "33c36826-7afc-4a70-9a72-912bb3e856a8",
   "metadata": {},
   "outputs": [],
   "source": [
    "import base64\n",
    "import numpy as np\n",
    "import io\n",
    "import cv2\n",
    "from PIL import Image"
   ]
  },
  {
   "cell_type": "code",
   "execution_count": 2,
   "id": "f2911781-3d0e-4dff-8af5-a472ac8137a5",
   "metadata": {},
   "outputs": [],
   "source": [
    "file = open('base_image.txt', 'rb')\n",
    "encoded_data = file.read()\n",
    "file.close()"
   ]
  },
  {
   "cell_type": "code",
   "execution_count": 10,
   "id": "2dac988d-2f9c-4f36-a163-1cba212299de",
   "metadata": {},
   "outputs": [],
   "source": [
    "# encoded_data"
   ]
  },
  {
   "cell_type": "code",
   "execution_count": 11,
   "id": "76e3e909-4bdf-419e-aadf-3c6bd0082fac",
   "metadata": {},
   "outputs": [],
   "source": [
    "decoded_data = base64.b64decode(encoded_data)"
   ]
  },
  {
   "cell_type": "code",
   "execution_count": 12,
   "id": "a48c8145-cfa6-4adc-b4e8-5524f5cc5610",
   "metadata": {},
   "outputs": [
    {
     "ename": "TypeError",
     "evalue": "a bytes-like object is required, not '_io.BufferedWriter'",
     "output_type": "error",
     "traceback": [
      "\u001b[1;31m---------------------------------------------------------------------------\u001b[0m",
      "\u001b[1;31mTypeError\u001b[0m                                 Traceback (most recent call last)",
      "\u001b[1;32m<ipython-input-12-fc399df5054c>\u001b[0m in \u001b[0;36m<module>\u001b[1;34m\u001b[0m\n\u001b[0;32m      1\u001b[0m \u001b[1;31m# write the decoded data back to original format in file\u001b[0m\u001b[1;33m\u001b[0m\u001b[1;33m\u001b[0m\u001b[1;33m\u001b[0m\u001b[0m\n\u001b[0;32m      2\u001b[0m \u001b[0mdecoded_image\u001b[0m \u001b[1;33m=\u001b[0m \u001b[0mopen\u001b[0m\u001b[1;33m(\u001b[0m\u001b[1;34m'image.jpeg'\u001b[0m\u001b[1;33m,\u001b[0m \u001b[1;34m'wb'\u001b[0m\u001b[1;33m)\u001b[0m\u001b[1;33m\u001b[0m\u001b[1;33m\u001b[0m\u001b[0m\n\u001b[1;32m----> 3\u001b[1;33m \u001b[0mdecoded_image\u001b[0m\u001b[1;33m.\u001b[0m\u001b[0mwrite\u001b[0m\u001b[1;33m(\u001b[0m\u001b[0mdecoded_image\u001b[0m\u001b[1;33m)\u001b[0m\u001b[1;33m\u001b[0m\u001b[1;33m\u001b[0m\u001b[0m\n\u001b[0m\u001b[0;32m      4\u001b[0m \u001b[0mdecoded_image\u001b[0m\u001b[1;33m.\u001b[0m\u001b[0mclos\u001b[0m\u001b[1;33m(\u001b[0m\u001b[1;33m)\u001b[0m\u001b[1;33m\u001b[0m\u001b[1;33m\u001b[0m\u001b[0m\n",
      "\u001b[1;31mTypeError\u001b[0m: a bytes-like object is required, not '_io.BufferedWriter'"
     ]
    }
   ],
   "source": [
    "# write the decoded data back to original format in file\n",
    "decoded_image = open('image.jpeg', 'wb')\n",
    "decoded_image.write(decoded_image)\n",
    "decoded_image.clos()"
   ]
  },
  {
   "cell_type": "code",
   "execution_count": 16,
   "id": "920f18dc-7f64-4673-b1a1-9076712fb8ba",
   "metadata": {},
   "outputs": [],
   "source": [
    "def stringToRGB(base64_string):\n",
    "    imgdata = base64.b64decode(base64_string)\n",
    "    dataBytesIO = io.BytesIO(imgdata)\n",
    "    image = Image.open(dataBytesIO)\n",
    "    return cv2.cvtColor(np.array(image), cv2.COLOR_BGR2RGB)"
   ]
  },
  {
   "cell_type": "code",
   "execution_count": 20,
   "id": "58217d10-dabb-44d1-9bd8-04ba3875c66d",
   "metadata": {},
   "outputs": [
    {
     "data": {
      "text/plain": [
       "array([[[  4,  10,   5],\n",
       "        [  4,  10,   5],\n",
       "        [  3,   9,   4],\n",
       "        ...,\n",
       "        [216, 164, 124],\n",
       "        [216, 164, 128],\n",
       "        [214, 163, 130]],\n",
       "\n",
       "       [[  3,   9,   4],\n",
       "        [  3,   9,   4],\n",
       "        [  4,  10,   5],\n",
       "        ...,\n",
       "        [218, 166, 126],\n",
       "        [218, 166, 130],\n",
       "        [217, 166, 133]],\n",
       "\n",
       "       [[  1,   7,   2],\n",
       "        [  3,   9,   4],\n",
       "        [  5,  11,   6],\n",
       "        ...,\n",
       "        [222, 167, 128],\n",
       "        [222, 168, 133],\n",
       "        [222, 169, 136]],\n",
       "\n",
       "       ...,\n",
       "\n",
       "       [[ 84, 132, 114],\n",
       "        [105, 150, 133],\n",
       "        [103, 139, 125],\n",
       "        ...,\n",
       "        [171, 166, 163],\n",
       "        [171, 166, 163],\n",
       "        [172, 167, 164]],\n",
       "\n",
       "       [[ 38,  83,  67],\n",
       "        [ 53,  93,  81],\n",
       "        [123, 154, 145],\n",
       "        ...,\n",
       "        [172, 167, 164],\n",
       "        [171, 166, 163],\n",
       "        [176, 171, 168]],\n",
       "\n",
       "       [[ 22,  65,  52],\n",
       "        [ 58,  96,  84],\n",
       "        [142, 173, 166],\n",
       "        ...,\n",
       "        [166, 161, 158],\n",
       "        [165, 160, 157],\n",
       "        [173, 168, 165]]], dtype=uint8)"
      ]
     },
     "execution_count": 20,
     "metadata": {},
     "output_type": "execute_result"
    }
   ],
   "source": [
    "stringToRGB(encoded_data)"
   ]
  },
  {
   "cell_type": "code",
   "execution_count": null,
   "id": "69244fb8-8c7e-4cac-a6a9-792d1b392396",
   "metadata": {},
   "outputs": [],
   "source": []
  },
  {
   "cell_type": "code",
   "execution_count": null,
   "id": "78db9d05-60fa-4015-85ef-f81d5103964b",
   "metadata": {},
   "outputs": [],
   "source": []
  },
  {
   "cell_type": "code",
   "execution_count": null,
   "id": "81207336-e48d-48a4-9e6e-fb384c260fcb",
   "metadata": {},
   "outputs": [],
   "source": []
  },
  {
   "cell_type": "code",
   "execution_count": null,
   "id": "564beb69-e4dc-4916-a024-49b4a5a20954",
   "metadata": {},
   "outputs": [],
   "source": []
  },
  {
   "cell_type": "code",
   "execution_count": null,
   "id": "edbfdbaf-8783-4b59-a436-27ec6d493a45",
   "metadata": {},
   "outputs": [],
   "source": []
  }
 ],
 "metadata": {
  "kernelspec": {
   "display_name": "Python 3",
   "language": "python",
   "name": "python3"
  },
  "language_info": {
   "codemirror_mode": {
    "name": "ipython",
    "version": 3
   },
   "file_extension": ".py",
   "mimetype": "text/x-python",
   "name": "python",
   "nbconvert_exporter": "python",
   "pygments_lexer": "ipython3",
   "version": "3.8.10"
  }
 },
 "nbformat": 4,
 "nbformat_minor": 5
}
