{
 "cells": [
  {
   "cell_type": "markdown",
   "id": "5ec5db65-818b-407d-b00e-59ab97861bb7",
   "metadata": {},
   "source": [
    "# Using base64 encoded file for the Object Detection"
   ]
  },
  {
   "cell_type": "markdown",
   "id": "017ef5e6-a8b7-4474-86c8-0304155c0a37",
   "metadata": {},
   "source": [
    "---"
   ]
  },
  {
   "cell_type": "markdown",
   "id": "33e770f7-2a85-4bdd-823e-29e9b9092647",
   "metadata": {},
   "source": [
    "## Overall trials"
   ]
  },
  {
   "cell_type": "markdown",
   "id": "be6b7e5f-29d4-4c1f-8fae-f7d45117db44",
   "metadata": {},
   "source": [
    "### Load required libraries"
   ]
  },
  {
   "cell_type": "code",
   "execution_count": null,
   "id": "33c36826-7afc-4a70-9a72-912bb3e856a8",
   "metadata": {},
   "outputs": [],
   "source": [
    "import base64\n",
    "import torch\n",
    "import os\n",
    "\n",
    "from PIL import Image\n",
    "from PIL import Image as im\n",
    "from torchvision import models, transforms"
   ]
  },
  {
   "cell_type": "markdown",
   "id": "3b724c2b-5e28-43f3-919c-c38e7d52a82b",
   "metadata": {},
   "source": [
    "### Checking current directory"
   ]
  },
  {
   "cell_type": "code",
   "execution_count": null,
   "id": "1b215280-aaa6-45a8-8372-b24797f03044",
   "metadata": {},
   "outputs": [],
   "source": [
    "direct = os.getcwd()\n",
    "print(direct)"
   ]
  },
  {
   "cell_type": "markdown",
   "id": "a168b7f6-9b6e-4a9f-bd65-d9ba948a4380",
   "metadata": {},
   "source": [
    "### Load base64 encoded txt file"
   ]
  },
  {
   "cell_type": "code",
   "execution_count": null,
   "id": "f2911781-3d0e-4dff-8af5-a472ac8137a5",
   "metadata": {},
   "outputs": [],
   "source": [
    "## load and read base64.txt file\n",
    "file = open(direct + '/base_image.txt', 'rb')\n",
    "encoded_data = file.read()\n",
    "file.close()"
   ]
  },
  {
   "cell_type": "markdown",
   "id": "a08943a3-3554-4e2e-a805-40913fda4632",
   "metadata": {},
   "source": [
    "### base64 decode to jpeg format"
   ]
  },
  {
   "cell_type": "code",
   "execution_count": null,
   "id": "2dac988d-2f9c-4f36-a163-1cba212299de",
   "metadata": {},
   "outputs": [],
   "source": [
    "#decode base64 string data\n",
    "decoded_data=base64.b64decode((encoded_data))\n",
    "#write the decoded data back to original format in  file\n",
    "img_file = open(direct + '/decoded_image.jpeg', 'wb')\n",
    "img_file.write(decoded_data)\n",
    "img_file.close()"
   ]
  },
  {
   "cell_type": "code",
   "execution_count": null,
   "id": "f0b566af-9f13-439b-a07d-5a7ba8ca6225",
   "metadata": {},
   "outputs": [],
   "source": [
    "# import numpy as np\n",
    "# import io, cv2\n",
    "\n",
    "# def stringToRGB(base64_string):\n",
    "#     imgdata = base64.b64decode(str(base64_string))\n",
    "#     img = Image.open(io.BytesIO(imgdata))\n",
    "#     opencv_img= cv2.cvtColor(np.array(img), cv2.COLOR_BGR2RGB)\n",
    "#     return opencv_img\n",
    "\n",
    "# print(type(stringToRGB(encoded_data)))\n",
    "# img = im.fromarray(stringToRGB(encoded_data))"
   ]
  },
  {
   "cell_type": "code",
   "execution_count": null,
   "id": "b9dbb19a-8ccc-4e49-bf4d-a70a6e3c9135",
   "metadata": {},
   "outputs": [],
   "source": []
  },
  {
   "cell_type": "markdown",
   "id": "c8b373b3-a9a7-442a-9071-0ce4539ccf89",
   "metadata": {},
   "source": [
    "### Prepare the image for inference"
   ]
  },
  {
   "cell_type": "code",
   "execution_count": null,
   "id": "5a5e170a-09b9-4f16-8bd2-b00016d64981",
   "metadata": {},
   "outputs": [],
   "source": [
    "## load image for inference\n",
    "img = Image.open(direct + \"/decoded_image.jpeg\")"
   ]
  },
  {
   "cell_type": "code",
   "execution_count": null,
   "id": "9594b646-ec0d-402b-8719-fcd14c44953b",
   "metadata": {},
   "outputs": [],
   "source": [
    "## data transform code for inference\n",
    "transform = transforms.Compose([\n",
    "    transforms.Resize(256),\n",
    "    transforms.CenterCrop(224),\n",
    "    transforms.ToTensor(),\n",
    "    transforms.Normalize(\n",
    "        mean=[0.485, 0.456, 0.406], \n",
    "        std=[0.229, 0.224, 0.225]\n",
    "    )\n",
    "])"
   ]
  },
  {
   "cell_type": "code",
   "execution_count": null,
   "id": "20d0ca8c-2942-4662-9054-3e79ce2669ea",
   "metadata": {},
   "outputs": [],
   "source": [
    "## image transform and batch setup\n",
    "img_t = transform(img)\n",
    "batch_t = torch.unsqueeze(img_t, 0)"
   ]
  },
  {
   "cell_type": "code",
   "execution_count": null,
   "id": "4f39783b-bbe0-46cd-829b-3fee9bc09d25",
   "metadata": {},
   "outputs": [],
   "source": []
  },
  {
   "cell_type": "markdown",
   "id": "17f3edeb-8459-46ab-af80-4018907f3f59",
   "metadata": {},
   "source": [
    "### Prepare pre-trained model (here, mobilenet_v3_small)"
   ]
  },
  {
   "cell_type": "code",
   "execution_count": null,
   "id": "69244fb8-8c7e-4cac-a6a9-792d1b392396",
   "metadata": {},
   "outputs": [],
   "source": [
    "## prepare pretrained model (trained on Imagenet-1k) and model evaluation\n",
    "model = models.mobilenet_v3_small(pretrained=True)\n",
    "model.eval()"
   ]
  },
  {
   "cell_type": "code",
   "execution_count": null,
   "id": "05551118-d0d0-443a-b895-b2a3dbf63466",
   "metadata": {},
   "outputs": [],
   "source": []
  },
  {
   "cell_type": "markdown",
   "id": "cbcdddf5-b621-433e-8d9d-51780e3561ae",
   "metadata": {},
   "source": [
    "### Inference"
   ]
  },
  {
   "cell_type": "code",
   "execution_count": null,
   "id": "78db9d05-60fa-4015-85ef-f81d5103964b",
   "metadata": {},
   "outputs": [],
   "source": [
    "## input data inference\n",
    "out = model(batch_t)"
   ]
  },
  {
   "cell_type": "code",
   "execution_count": null,
   "id": "81207336-e48d-48a4-9e6e-fb384c260fcb",
   "metadata": {},
   "outputs": [],
   "source": [
    "## prepare candidate labels(classes)\n",
    "with open('/content/imagenet-classes.txt') as f:\n",
    "    classes = [line.strip() for line in f.readlines()]"
   ]
  },
  {
   "cell_type": "code",
   "execution_count": null,
   "id": "564beb69-e4dc-4916-a024-49b4a5a20954",
   "metadata": {},
   "outputs": [],
   "source": [
    "_, indices = torch.sort(out, descending=True)\n",
    "percentage = torch.nn.functional.softmax(out, dim=1)[0] * 100\n",
    "[(classes[idx], percentage[idx].item()) for idx in indices[0][:5]]\n",
    "# print([(classes[idx]) for idx in indices[0][:3]])"
   ]
  },
  {
   "cell_type": "code",
   "execution_count": null,
   "id": "edbfdbaf-8783-4b59-a436-27ec6d493a45",
   "metadata": {},
   "outputs": [],
   "source": []
  },
  {
   "cell_type": "markdown",
   "id": "1a52444a-534d-46f3-9bad-d046e7204926",
   "metadata": {},
   "source": [
    "----"
   ]
  },
  {
   "cell_type": "markdown",
   "id": "d93d3f8f-8f3b-43d6-a702-03ca68297554",
   "metadata": {},
   "source": [
    "## Summarized Code"
   ]
  },
  {
   "cell_type": "code",
   "execution_count": null,
   "id": "8c53e0bf-7e2a-4506-a38d-03657bfac163",
   "metadata": {},
   "outputs": [],
   "source": [
    "import base64\n",
    "import torch\n",
    "import os\n",
    "\n",
    "from PIL import Image\n",
    "from PIL import Image as im\n",
    "from torchvision import models, transforms\n",
    "\n",
    "def main(base_data):\n",
    "    dir = os.getcwd()\n",
    "    decoded_data=base64.b64decode((base_data))\n",
    "    img_file = open(dir + '/decoded_image.jpeg', 'wb')\n",
    "    img_file.write(decoded_data)\n",
    "    img_file.close()\n",
    "\n",
    "    img = Image.open(dir + \"/decoded_image.jpeg\")\n",
    "    transform = transforms.Compose([\n",
    "        transforms.Resize(256),\n",
    "        transforms.CenterCrop(224),\n",
    "        transforms.ToTensor(),\n",
    "        transforms.Normalize(\n",
    "            mean=[0.485, 0.456, 0.406], std=[0.229, 0.224, 0.225]\n",
    "        )\n",
    "    ])\n",
    "\n",
    "    img_t = transform(img)\n",
    "    batch_t = torch.unsqueeze(img_t, 0)\n",
    "\n",
    "    model = models.mobilenet_v3_small(pretrained=True)\n",
    "    model.eval()\n",
    "    out = model(batch_t)\n",
    "    with open(dir + '/imagenet-classes.txt') as f:\n",
    "        classes = [line.strip() for line in f.readlines()]\n",
    "\n",
    "    _, indices = torch.sort(out, descending=True)\n",
    "    percentage = torch.nn.functional.softmax(out, dim=1)[0] * 10\n",
    "    print([(classes[idx]) for idx in indices[0][:3]])"
   ]
  },
  {
   "cell_type": "code",
   "execution_count": null,
   "id": "5b078f71-0c4f-4aa1-9ec5-9213366d5eca",
   "metadata": {},
   "outputs": [],
   "source": [
    "main(encoded_data)"
   ]
  },
  {
   "cell_type": "code",
   "execution_count": null,
   "id": "b5529e28-9798-43c9-aa44-c24b641bff0d",
   "metadata": {},
   "outputs": [],
   "source": []
  },
  {
   "cell_type": "markdown",
   "id": "21f42349-b4db-4307-b86e-a3a6078bc853",
   "metadata": {},
   "source": [
    "---"
   ]
  },
  {
   "cell_type": "markdown",
   "id": "21ed0fb3-c841-46a2-a63e-d42d6cff0cfc",
   "metadata": {},
   "source": [
    "## For API calls"
   ]
  },
  {
   "cell_type": "code",
   "execution_count": null,
   "id": "44d48902-a1d6-4b3f-a153-632ad06912cd",
   "metadata": {},
   "outputs": [],
   "source": [
    "import base64\n",
    "import torch\n",
    "import os\n",
    "\n",
    "from PIL import Image\n",
    "from PIL import Image as im\n",
    "from torchvision import models, transforms\n",
    "from flask import Flask, request, jsonify\n",
    "\n",
    "\n",
    "@base_classification.route('/obj', methods=['POST'])\n",
    "base_classification = Flask(__name__)\n",
    "\n",
    "def obj():\n",
    "    if request.method ==\"POST\":\n",
    "        data = request.get_json()\n",
    "        base = data['base64']\n",
    "        \n",
    "        \n",
    "        dir = os.getcwd()\n",
    "        decoded_data=base64.b64decode((base))\n",
    "        img_file = open(dir + '/decoded_image.jpeg', 'wb')\n",
    "        img_file.write(decoded_data)\n",
    "        img_file.close()\n",
    "        \n",
    "        img = Image.open(dir + \"/decoded_image.jpeg\")\n",
    "        transform = transforms.Compose([\n",
    "            transforms.Resize(256),\n",
    "            transforms.CenterCrop(224),\n",
    "            transforms.ToTensor(),\n",
    "            transforms.Normalize(\n",
    "                mean=[0.485, 0.456, 0.406], std=[0.229, 0.224, 0.225]\n",
    "            )\n",
    "        ])\n",
    "        \n",
    "        img_t = transform(img)\n",
    "        batch_t = torch.unsqueeze(img_t, 0)\n",
    "        \n",
    "        model = models.mobilenet_v3_small(pretrained=True)\n",
    "        model.eval()\n",
    "        out = model(batch_t)\n",
    "        with open(dir + '/imagenet-classes.txt') as f:\n",
    "            classes = [line.strip() for line in f.readlines()]\n",
    "            \n",
    "            \n",
    "        _, indices = torch.sort(out, descending=True)\n",
    "        percentage = torch.nn.functional.softmax(out, dim=1)[0] * 10\n",
    "        results = [(classes[idx]) for idx in indices[0][:3]]\n",
    "        \n",
    "        labels = {results}\n",
    "        return jsonify({'labels': labels})\n",
    "    \n",
    "    else:\n",
    "        return 'Invalid request method. Only POST is allowed.', 405\n",
    "\n",
    "\n",
    "    \n",
    "if __name__ == '__main__':\n",
    "    base_classification.run(debug=True)"
   ]
  },
  {
   "cell_type": "code",
   "execution_count": null,
   "id": "3c3713d8-a7f5-4ca8-8197-46a8266727c7",
   "metadata": {},
   "outputs": [],
   "source": []
  },
  {
   "cell_type": "code",
   "execution_count": null,
   "id": "5f43c5fe-64de-433b-9884-7f1ba9e36d13",
   "metadata": {},
   "outputs": [],
   "source": []
  }
 ],
 "metadata": {
  "kernelspec": {
   "display_name": "Python 3",
   "language": "python",
   "name": "python3"
  },
  "language_info": {
   "codemirror_mode": {
    "name": "ipython",
    "version": 3
   },
   "file_extension": ".py",
   "mimetype": "text/x-python",
   "name": "python",
   "nbconvert_exporter": "python",
   "pygments_lexer": "ipython3",
   "version": "3.8.10"
  }
 },
 "nbformat": 4,
 "nbformat_minor": 5
}
