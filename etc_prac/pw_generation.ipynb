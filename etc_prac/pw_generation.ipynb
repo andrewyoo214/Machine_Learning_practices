{
 "cells": [
  {
   "cell_type": "markdown",
   "id": "ac513851-18a8-4110-aed2-4a26e60a0012",
   "metadata": {},
   "source": [
    "# Random password generation"
   ]
  },
  {
   "cell_type": "code",
   "execution_count": 1,
   "id": "6355432c-5b98-4fc7-a4f1-8e7177932cfb",
   "metadata": {},
   "outputs": [],
   "source": [
    "import string, random, csv"
   ]
  },
  {
   "cell_type": "code",
   "execution_count": 2,
   "id": "5607b286-156c-478c-9916-ab64f5da1fe4",
   "metadata": {},
   "outputs": [
    {
     "name": "stdout",
     "output_type": "stream",
     "text": [
      "English letters are: abcdefghijklmnopqrstuvwxyz\n",
      "Numbers are: 0123456789\n"
     ]
    }
   ],
   "source": [
    "print(\"English letters are:\",string.ascii_lowercase)\n",
    "print(\"Numbers are:\",string.digits)\n"
   ]
  },
  {
   "cell_type": "code",
   "execution_count": null,
   "id": "3b2b810d-64a1-4e1b-98e2-c267fac5eac6",
   "metadata": {},
   "outputs": [],
   "source": []
  },
  {
   "cell_type": "code",
   "execution_count": 3,
   "id": "2503ffbc-5001-4493-b0a0-2dea429a3d0f",
   "metadata": {},
   "outputs": [],
   "source": [
    "def getPW(pw_num, pw_len):\n",
    "    pw_list = []\n",
    "    for i in  range(pw_num):\n",
    "        char_num = \"abcdefghijklmnopqrstuvwxyz0123456789\"\n",
    "        password = ''.join(random.choice(char_num) for _ in range(pw_len))\n",
    "        pw_list.append(password)\n",
    "    return pw_list"
   ]
  },
  {
   "cell_type": "code",
   "execution_count": 4,
   "id": "d3094b0d-201f-4422-9496-1f1b94af4439",
   "metadata": {},
   "outputs": [],
   "source": [
    "generated_pw = getPW(264, 8)"
   ]
  },
  {
   "cell_type": "code",
   "execution_count": 5,
   "id": "257ed202-5f61-4885-a8cb-0c40b45cf087",
   "metadata": {},
   "outputs": [],
   "source": [
    "variable = ['PW']\n",
    "with open('passwords.csv', 'w') as f:\n",
    "    csv_writer = csv.writer(f, lineterminator = '\\n')\n",
    "    csv_writer.writerow(variable)\n",
    "    for val in generated_pw:\n",
    "        csv_writer.writerow([val])"
   ]
  },
  {
   "cell_type": "code",
   "execution_count": null,
   "id": "f38db3f8-7a07-4790-b5c8-6a180b292ff8",
   "metadata": {},
   "outputs": [],
   "source": []
  }
 ],
 "metadata": {
  "kernelspec": {
   "display_name": "Python 3 (ipykernel)",
   "language": "python",
   "name": "python3"
  },
  "language_info": {
   "codemirror_mode": {
    "name": "ipython",
    "version": 3
   },
   "file_extension": ".py",
   "mimetype": "text/x-python",
   "name": "python",
   "nbconvert_exporter": "python",
   "pygments_lexer": "ipython3",
   "version": "3.9.17"
  }
 },
 "nbformat": 4,
 "nbformat_minor": 5
}
