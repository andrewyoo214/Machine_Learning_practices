{
 "cells": [
  {
   "cell_type": "markdown",
   "id": "dd379931-9f25-4101-b1fa-77ac82e23fdd",
   "metadata": {},
   "source": [
    "# Video Classification"
   ]
  },
  {
   "cell_type": "code",
   "execution_count": null,
   "id": "6c679b3b-7e14-463a-bb85-d939666c4cbf",
   "metadata": {},
   "outputs": [],
   "source": [
    "import os\n",
    "import cv2\n",
    "import numpy as np\n",
    "from imutils import paths"
   ]
  },
  {
   "cell_type": "code",
   "execution_count": null,
   "id": "d1c29f3b-ecf4-484c-8b7d-c64626cb1684",
   "metadata": {},
   "outputs": [],
   "source": [
    "from sklearn.preprocessing import LabelBinarizer\n",
    "from sklearn.model_selection import train_test_split\n",
    "from keras.preprocessing.image import ImageDataGenerator"
   ]
  },
  {
   "cell_type": "code",
   "execution_count": null,
   "id": "07c495bd-d0c8-4426-b54f-c1a059f72baa",
   "metadata": {},
   "outputs": [],
   "source": [
    "from keras.layers import Input\n",
    "from keras.layers.pooling import AveragePooling2D\n",
    "from keras.applications import ResNet50\n",
    "from keras.layers.core import Flatten\n",
    "from keras.layers.core import Dense\n",
    "from keras.layers.core import Dropout\n",
    "from keras.models import Model\n",
    "from pickle import dump\n",
    "from keras.optimizers import SGD"
   ]
  },
  {
   "cell_type": "code",
   "execution_count": null,
   "id": "6609cf18-e33c-4b0b-be77-8ff7b7de8b59",
   "metadata": {},
   "outputs": [],
   "source": [
    "datapath= r\"E:\\RESEARCH\\Datasets\\VC\\sports\\data\"\n",
    "outputmodel = r\"E:\\RESEARCH\\Datasets\\VC\\sports\\classificationModel\"\n",
    "outputlabelbinarizer = \"E:\\RESEARCH\\Datasets\\VC\\sports\\classificationBinarizer\"\n",
    "epochs=25"
   ]
  },
  {
   "cell_type": "code",
   "execution_count": null,
   "id": "0768bf03-048a-4903-95e9-2334aeac7d2c",
   "metadata": {},
   "outputs": [],
   "source": [
    "sports_labels = set(['boxing','swimming','table_tennis'])\n",
    "print(\"Images are being loaded...\")\n",
    "pathToImages = list(paths.list_images(datapath))\n",
    "data = []\n",
    "labels = []\n",
    "\n",
    "for images in pathToImages:\n",
    "    label = images.split(os.path.sep)[-2]\n",
    "    if label not in sports_labels:\n",
    "        continue\n",
    "    image = cv2.imread(images)\n",
    "    image = cv2.cvtColor(image, cv2.COLOR_BGR2RGB) #if image is not in RGB form, change it to RGB format\n",
    "    image = cv2.resize(image, (244, 244)) #resizing the image. Here we trying resnet50 so 244x244\n",
    "    data.append(image) # appending data\n",
    "    labels.append(label)"
   ]
  },
  {
   "cell_type": "code",
   "execution_count": null,
   "id": "795f4b82-3750-4749-8abb-c2c5301b4ae4",
   "metadata": {},
   "outputs": [],
   "source": [
    "data = np.array(data)\n",
    "labels = np.array(labels) # hot encodded values as 0,1,2\n",
    "lb = LabelBinarizer()\n",
    "labels = lb.fit_transform(labels)"
   ]
  },
  {
   "cell_type": "code",
   "execution_count": null,
   "id": "0535e8f4-60e1-4047-ad32-c0c66a2b9050",
   "metadata": {},
   "outputs": [],
   "source": [
    "(X_train, X_test, Y_train, Y_test) = train_test_split(data, labels, test_size = 0.25, stratify=labels, random_state=42)"
   ]
  },
  {
   "cell_type": "code",
   "execution_count": null,
   "id": "af5edd59-2cb7-4169-9a42-91864afea6d1",
   "metadata": {},
   "outputs": [],
   "source": [
    "#Image data augmentation\n",
    "trainingAugmentation = ImageDataGenerator(\n",
    "    rotation_range = 30,\n",
    "    zoom_range = 0.15,\n",
    "    width_shift_range = 0.2,\n",
    "    height_shift_range = 0.2,\n",
    "    shear_range = 0.15,\n",
    "    horizontal_flip = True,\n",
    "    fill_mode = \"nearest\"\n",
    ")\n",
    "\n",
    "validationAugmentation = ImageDataGenerator()\n",
    "mean = np.array([123.68, 116.779, 103.939], dtype=\"float32\")\n",
    "trainingAugmentation.mean = mean\n",
    "validationAugmentation.mean = mean"
   ]
  },
  {
   "cell_type": "code",
   "execution_count": null,
   "id": "cfedd65f-31df-4d85-962d-4d6e7a2521d2",
   "metadata": {},
   "outputs": [],
   "source": [
    "baseModel = ResNet50(weights=\"imagenet\", include_top=False, input_tensor=Input(shape=(244,244,3)))\n",
    "headModel = baseModel.output\n",
    "headModel = AveragePooling2D(pool_size=(7,7))(headModel)\n",
    "headModel = Flatten(name=\"flatten\")(headModel)\n",
    "headModel = Dense(512, activation=\"relu\")(headModel)\n",
    "headModel = Dropout(0.5)(headModel)\n",
    "headModel = Dense(len(lb.classes_), activation=\"softmax\")(headModel)\n",
    "model = Model(inputs=baseModel.input, outputs=headModel)\n",
    "\n",
    "for basemodelLayers in baseModel.layers:\n",
    "    basemodelLayers.trainable = False"
   ]
  },
  {
   "cell_type": "code",
   "execution_count": null,
   "id": "691c85f5-46d1-4eec-8d61-174b9e4b4962",
   "metadata": {},
   "outputs": [],
   "source": [
    "opt = SGD(lr=0.0001, momentum=0.9, decay=1e-4/epochs)"
   ]
  },
  {
   "cell_type": "code",
   "execution_count": null,
   "id": "dae15a25-fcde-4fdf-b261-c606bb0b0bce",
   "metadata": {},
   "outputs": [],
   "source": [
    "model.compile(loss=\"categorical_crossentropy\", optimizer = opt, metrics=[\"accuracy\"])"
   ]
  },
  {
   "cell_type": "code",
   "execution_count": null,
   "id": "b17f3b3d-e231-4a26-9c06-3203f7b34cdf",
   "metadata": {},
   "outputs": [],
   "source": [
    "History = model.fit_generator(\n",
    "    trainingAugmentation.flow(X_train, Y_train, batch_size=32),\n",
    "    steps_per_epoch = len(X_train) // 32,\n",
    "    validation_data = validationAugmentation.flow(X_test, Y_test),\n",
    "    validation_steps = len(X_test) // 32,\n",
    "    epochs=epochs\n",
    ")"
   ]
  },
  {
   "cell_type": "code",
   "execution_count": null,
   "id": "5c26f75d-dc85-451c-8b98-050e08915dee",
   "metadata": {},
   "outputs": [],
   "source": [
    "# model.save(outputmodel)\n",
    "# lbinarizer = open(r\"E:\\RESEARCH\\Datasets\\sports\\classificationBinarizer.pkl\", \"wb\")\n",
    "# lbinarizer = write(pickle.dumps(lb))\n",
    "# lbinarizer.close()"
   ]
  },
  {
   "cell_type": "code",
   "execution_count": null,
   "id": "50ad5753-cee6-4516-b51e-c7896a09dc60",
   "metadata": {},
   "outputs": [],
   "source": [
    "model.save(outputmodel)\n",
    "dump(outputmodel,open(r\"E:\\RESEARCH\\Datasets\\sports\\classificationBinarizer.pkl\", \"wb\"))"
   ]
  },
  {
   "cell_type": "markdown",
   "id": "645ed83a-0ff8-4b73-a53d-afffd5b61a13",
   "metadata": {},
   "source": [
    "https://www.youtube.com/watch?v=BllyHlq5SsQ&list=PLxefhmF0pcPl_v-lLsqF3drP6NOoSYJR0"
   ]
  },
  {
   "cell_type": "code",
   "execution_count": null,
   "id": "4d975ac2-3e9b-4684-8018-ed3427f12b4a",
   "metadata": {},
   "outputs": [],
   "source": []
  },
  {
   "cell_type": "markdown",
   "id": "8773a0bc-85e0-4498-91d9-01cb9b1e471c",
   "metadata": {},
   "source": [
    "## Now, prediction"
   ]
  },
  {
   "cell_type": "code",
   "execution_count": null,
   "id": "9874b9f6-f179-4f27-b5ce-fba63637b9a8",
   "metadata": {},
   "outputs": [],
   "source": [
    "from keras.models import load_model\n",
    "from collections import deque\n",
    "import numpy as np\n",
    "import pickle\n",
    "import cv2"
   ]
  },
  {
   "cell_type": "code",
   "execution_count": null,
   "id": "89aa9f34-bf13-4261-bab3-05d437dd70e5",
   "metadata": {},
   "outputs": [],
   "source": [
    "model = load_model(r\"E:\\RESEARCH\\Datasets\\sports\\classificationModel\")\n",
    "lb = pickle.loads(open(r\"E:\\RESEARCH\\Datasets\\sports\\classificationBinarizer.pkl\",\"rb\").read())\n",
    "outputvideo = r\"E:\\RESEARCH\\Datasets\\sports\\classificationModel\\demo_output.avi\"\n",
    "mean = np.array([123.68, 116.779, 103.939][::1], dtype=\"float32\")\n",
    "Queue = deque(maxlen=128)"
   ]
  },
  {
   "cell_type": "code",
   "execution_count": null,
   "id": "e0efe52f-7456-49d2-8cf1-33bc3621b411",
   "metadata": {},
   "outputs": [],
   "source": [
    "lb.classes_[i]"
   ]
  },
  {
   "cell_type": "code",
   "execution_count": null,
   "id": "93294378-a3fd-43b8-b4c0-f601b9fec0de",
   "metadata": {},
   "outputs": [],
   "source": [
    "capture_video = cv2.VideoCapture(r\"E:\\RESEARCH\\Datasets\\sports\\classificationModel\\demo.mp4\")\n",
    "writer = None\n",
    "(Width, Height) = (None, None)\n",
    "\n",
    "while True:\n",
    "    (taken, frame) = capture_video.read()\n",
    "    if not taken:\n",
    "        break\n",
    "    if Width is None or Height is None:\n",
    "        (Width, Height) = frame.shape[:2]\n",
    "    \n",
    "    output = frame.copy()\n",
    "    frame = cv2.cvtColor(frame, cv2.COLOR_BGR2RGB)\n",
    "    frame = cv2.resize(frame, (244, 244)).astype(\"float32\")\n",
    "    frame -= mean\n",
    "    preds = model.predict(np.expand_dims(frame, axis=0))[0]\n",
    "    Queue.append(preds)\n",
    "    results = np.array(Queue).mean(axis=0)\n",
    "    i = np.argmax(results)\n",
    "    label = lb.classes_[i]\n",
    "    text = \"The scene is about playing {}\".format(label)\n",
    "    cv2.putText(output, text, (45,60), cv2.FONT_HERSHEY_SIMPLEX, 1.25, (255, 0, 0), 5)\n",
    "    \n",
    "    if writer is None:\n",
    "        fourcc = cv3.VideoWriter_fourcc(*\"MJPG\")\n",
    "        writer = cv2.VideoWriter(\"outputvideo\", fourcc, 30, (Width, Height), True)\n",
    "    writer.write(output)\n",
    "    cv2.imshow(\"In progress\",output)\n",
    "    key = cv2.waitKet(1) & 0xFF\n",
    "    \n",
    "    if key == ord(\"q\"):\n",
    "        break\n",
    "\n",
    "print(\"Finalizing ...\")\n",
    "writer.release()\n",
    "capture_video.release()"
   ]
  },
  {
   "cell_type": "code",
   "execution_count": null,
   "id": "f50749b8-90b8-4b56-a1b7-047b4f26698a",
   "metadata": {},
   "outputs": [],
   "source": []
  },
  {
   "cell_type": "code",
   "execution_count": null,
   "id": "fe6193c9-fd4f-462c-a5de-992baea68b44",
   "metadata": {},
   "outputs": [],
   "source": []
  },
  {
   "cell_type": "code",
   "execution_count": null,
   "id": "766cb9ab-d731-48bc-9e55-2c24e7a62a7b",
   "metadata": {},
   "outputs": [],
   "source": []
  },
  {
   "cell_type": "code",
   "execution_count": null,
   "id": "4089987d-0d41-4d41-8475-b434e80ccf65",
   "metadata": {},
   "outputs": [],
   "source": []
  },
  {
   "cell_type": "code",
   "execution_count": null,
   "id": "a36fbd41-a2b5-4357-b92e-6e6fd71d4dea",
   "metadata": {},
   "outputs": [],
   "source": []
  },
  {
   "cell_type": "code",
   "execution_count": null,
   "id": "6688840f-ae0c-445e-b10f-0ed98b8b9b72",
   "metadata": {},
   "outputs": [],
   "source": []
  },
  {
   "cell_type": "code",
   "execution_count": null,
   "id": "005ed2be-ab0e-4ed4-8e56-4cc163410a2a",
   "metadata": {},
   "outputs": [],
   "source": []
  },
  {
   "cell_type": "code",
   "execution_count": null,
   "id": "99d367fb-b957-490a-a159-d1e53432ddbf",
   "metadata": {},
   "outputs": [],
   "source": []
  },
  {
   "cell_type": "code",
   "execution_count": null,
   "id": "ede178f0-0358-4c48-81be-be7f4d5f0c5b",
   "metadata": {},
   "outputs": [],
   "source": [
    "import os\n",
    "import cv2\n",
    "import imageio\n",
    "import numpy as np\n",
    "import pandas as pd\n",
    "import tensorflow as tf\n",
    "import matplotlib.pyplot as plt\n",
    "\n",
    "from tensorflow_docs.vis import embed\n",
    "from tensorflow.keras import layers\n",
    "from tensorflow import keras"
   ]
  },
  {
   "cell_type": "code",
   "execution_count": null,
   "id": "91ba75f5-cf77-480c-8212-54dceabe1f69",
   "metadata": {},
   "outputs": [],
   "source": []
  },
  {
   "cell_type": "code",
   "execution_count": null,
   "id": "4c0a914d-4cea-4d04-aa2b-c66bbe7b6cf9",
   "metadata": {},
   "outputs": [],
   "source": []
  },
  {
   "cell_type": "code",
   "execution_count": null,
   "id": "3fce70e2-7dc6-4fc8-a53a-f08365c09cea",
   "metadata": {},
   "outputs": [],
   "source": []
  },
  {
   "cell_type": "code",
   "execution_count": null,
   "id": "44ac37cd-3047-443b-aaee-d6e35a0da1e0",
   "metadata": {},
   "outputs": [],
   "source": []
  },
  {
   "cell_type": "code",
   "execution_count": null,
   "id": "dfbbecf1-455b-4094-bedd-1667da9a0784",
   "metadata": {},
   "outputs": [],
   "source": []
  },
  {
   "cell_type": "code",
   "execution_count": null,
   "id": "e40796f1-f273-4a4b-a13f-9abab76386fe",
   "metadata": {},
   "outputs": [],
   "source": []
  },
  {
   "cell_type": "code",
   "execution_count": null,
   "id": "4a62b6ff-6dcf-4a40-bd34-fc0c617eb3e5",
   "metadata": {},
   "outputs": [],
   "source": []
  },
  {
   "cell_type": "code",
   "execution_count": null,
   "id": "308db887-b503-46d9-bd17-365ec039a1ad",
   "metadata": {},
   "outputs": [],
   "source": []
  },
  {
   "cell_type": "code",
   "execution_count": null,
   "id": "47867a6a-ffc0-423a-8bb1-81140d23f43c",
   "metadata": {},
   "outputs": [],
   "source": []
  }
 ],
 "metadata": {
  "kernelspec": {
   "display_name": "Python 3 (ipykernel)",
   "language": "python",
   "name": "python3"
  },
  "language_info": {
   "codemirror_mode": {
    "name": "ipython",
    "version": 3
   },
   "file_extension": ".py",
   "mimetype": "text/x-python",
   "name": "python",
   "nbconvert_exporter": "python",
   "pygments_lexer": "ipython3",
   "version": "3.8.13"
  }
 },
 "nbformat": 4,
 "nbformat_minor": 5
}
