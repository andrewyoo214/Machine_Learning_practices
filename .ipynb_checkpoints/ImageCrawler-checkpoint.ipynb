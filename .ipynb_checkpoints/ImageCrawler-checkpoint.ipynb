{
 "cells": [
  {
   "cell_type": "markdown",
   "id": "40d4af53-ff77-4c56-97a4-4dcb53fc2d91",
   "metadata": {},
   "source": [
    "## Image crawling from google, bing, baidu"
   ]
  },
  {
   "cell_type": "code",
   "execution_count": null,
   "id": "b2600e28-3c2d-410b-90ce-2d5329c2aebb",
   "metadata": {},
   "outputs": [],
   "source": [
    "import urllib.request\n",
    "import time\n",
    "import os\n",
    "from urllib.parse import quote_plus\n",
    "from bs4 import BeautifulSoup\n",
    "from selenium import webdriver\n",
    "from icrawler.builtin import GoogleImageCrawler, BingImageCrawler, BaiduImageCrawler"
   ]
  },
  {
   "cell_type": "code",
   "execution_count": null,
   "id": "1c93a0e3-677b-4f4d-8d0b-5065d853a4bc",
   "metadata": {},
   "outputs": [],
   "source": [
    "### image crawling from google with GoogleImageCrawler\n",
    "google_crawler = GoogleImageCrawler(\n",
    "    feeder_threads=1,\n",
    "    parser_threads=1,\n",
    "    downloader_threads=4,\n",
    "    storage={'root_dir': 'your_path/folder'})\n",
    "\n",
    "filters = dict(\n",
    "    type='photo',\n",
    "    #type=photo,face,clipart,linedrawing,animated\n",
    "    size='medium',\n",
    "    #size=large, medium, icon, or larger than a given size e.g.\">640x480\" or exactly giving size\"=1024x768\n",
    "#     color='orange',\n",
    "    #coler=blackandwhite, red, oragne, yellow, green, teal, blue, purple, pink, white, gray, black, brown\n",
    "#     license='commercial,modify',\n",
    "    #license=noncommercial, commercial, noncommercial,modify , commercial,modify\n",
    "    date=((2000, 1, 1), (2021, 12, 30)))\n",
    "\n",
    "# type the keyword of the image that you want to crawl from google\n",
    "google_crawler.crawl(keyword= 'keyword_that_you_want_to_search', filters=filters, offset=0, max_num=1000,\n",
    "                     min_size=(200,200), max_size=None, file_idx_offset=0)"
   ]
  },
  {
   "cell_type": "code",
   "execution_count": null,
   "id": "fd3b3452-8691-487d-8af0-08713c79151e",
   "metadata": {},
   "outputs": [],
   "source": []
  },
  {
   "cell_type": "markdown",
   "id": "2bce975b-f5ba-48cb-9882-c4257b153424",
   "metadata": {},
   "source": [
    "if using baidu or bing to crawl more dataset"
   ]
  },
  {
   "cell_type": "code",
   "execution_count": null,
   "id": "4115e195-a430-4f42-b707-004ab3d7b8ed",
   "metadata": {},
   "outputs": [],
   "source": [
    "### baidu crawler\n",
    "baidu_crawler = BaiduImageCrawler(storage={'root_dir': 'your_path/folder'})\n",
    "baidu_crawler.crawl(keyword='violin', offset=0, max_num=1000,\n",
    "                    min_size=(200,200), max_size=None)"
   ]
  },
  {
   "cell_type": "code",
   "execution_count": null,
   "id": "1160e4c1-9840-4d49-826b-4297a48fc6f1",
   "metadata": {},
   "outputs": [],
   "source": [
    "### bing crawler\n",
    "bing_crawler = BingImageCrawler(downloader_threads=4,\n",
    "                                storage={'root_dir': 'your_path/folder'})\n",
    "bing_crawler.crawl(keyword='keyword_that_you_want_to_search', filters=None, offset=0, max_num=500)"
   ]
  },
  {
   "cell_type": "code",
   "execution_count": null,
   "id": "a6c38eef-8541-422c-ae9c-8cb79a7391dc",
   "metadata": {},
   "outputs": [],
   "source": []
  },
  {
   "cell_type": "code",
   "execution_count": null,
   "id": "b3d0d333-078b-4a54-aced-3f7c85af9a28",
   "metadata": {},
   "outputs": [],
   "source": []
  },
  {
   "cell_type": "code",
   "execution_count": null,
   "id": "0c408fac-70b2-46f9-8be4-0ad0a636e7eb",
   "metadata": {},
   "outputs": [],
   "source": []
  },
  {
   "cell_type": "code",
   "execution_count": null,
   "id": "a78d2e3f-48ce-4c8f-86a4-e6e4cf185806",
   "metadata": {},
   "outputs": [],
   "source": []
  },
  {
   "cell_type": "code",
   "execution_count": null,
   "id": "645d84bf-f9f9-4ef9-b2d1-ca248214fdf0",
   "metadata": {},
   "outputs": [],
   "source": []
  }
 ],
 "metadata": {
  "kernelspec": {
   "display_name": "Python 3",
   "language": "python",
   "name": "python3"
  },
  "language_info": {
   "codemirror_mode": {
    "name": "ipython",
    "version": 3
   },
   "file_extension": ".py",
   "mimetype": "text/x-python",
   "name": "python",
   "nbconvert_exporter": "python",
   "pygments_lexer": "ipython3",
   "version": "3.8.10"
  }
 },
 "nbformat": 4,
 "nbformat_minor": 5
}
