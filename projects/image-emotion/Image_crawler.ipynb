{
 "cells": [
  {
   "cell_type": "markdown",
   "id": "6bbca852-0c2d-4a4b-995e-1aa03effce82",
   "metadata": {},
   "source": [
    "# Image crawler"
   ]
  },
  {
   "cell_type": "code",
   "execution_count": null,
   "id": "2ca6f894-bc62-4091-8fdc-5220494a4ac7",
   "metadata": {},
   "outputs": [],
   "source": [
    "import urllib.request\n",
    "import time\n",
    "import os\n",
    "from urllib.parse import quote_plus\n",
    "from bs4 import BeautifulSoup\n",
    "from selenium import webdriver\n",
    "from icrawler.builtin import GoogleImageCrawler"
   ]
  },
  {
   "cell_type": "code",
   "execution_count": null,
   "id": "b92fae99-da49-4db0-a62f-52f0c99d2a33",
   "metadata": {},
   "outputs": [],
   "source": [
    "### image crawling from google with GoogleImageCrawler\n",
    "\n",
    "google_crawler = GoogleImageCrawler(\n",
    "    feeder_threads=1,\n",
    "    parser_threads=1,\n",
    "    downloader_threads=4,\n",
    "    storage={'root_dir': 'E:/RESEARCH/Datasets/image_emotion/train/happiness'})\n",
    "\n",
    "filters = dict(\n",
    "    type='photo',\n",
    "    #type=photo,face,clipart,linedrawing,animated\n",
    "    size='medium',\n",
    "    #size=large, medium, icon, or larger than a given size e.g.\">640x480\" or exactly giving size\"=1024x768\n",
    "#     color='orange',\n",
    "    #coler=blackandwhite, red, oragne, yellow, green, teal, blue, purple, pink, white, gray, black, brown\n",
    "#     license='commercial,modify',\n",
    "    #license=noncommercial, commercial, noncommercial,modify , commercial,modify\n",
    "    date=((2000, 1, 1), (2023, 12, 1)))\n",
    "\n",
    "# type the keyword of the image that you want to crawl from google\n",
    "google_crawler.crawl(keyword= 'nice weather nature', filters=filters, offset=0, max_num=100000,\n",
    "                     min_size=(200,200), max_size=None, file_idx_offset=6000)"
   ]
  },
  {
   "cell_type": "code",
   "execution_count": null,
   "id": "19147eb3-1c5f-453f-923f-ed4d3caa6878",
   "metadata": {},
   "outputs": [],
   "source": []
  },
  {
   "cell_type": "markdown",
   "id": "cd46dc87-251d-487d-b19d-3a5391283d46",
   "metadata": {},
   "source": [
    "* Crawler keywords?\n",
    "> anger : angry nature, angry weather\\\n",
    "> happiness:\\\n",
    "> sadness: \\\n",
    "> fear: "
   ]
  },
  {
   "cell_type": "code",
   "execution_count": null,
   "id": "32e94b08-cffd-4d77-ad62-04b9c996b91a",
   "metadata": {},
   "outputs": [],
   "source": []
  }
 ],
 "metadata": {
  "kernelspec": {
   "display_name": "Python 3",
   "language": "python",
   "name": "python3"
  },
  "language_info": {
   "codemirror_mode": {
    "name": "ipython",
    "version": 3
   },
   "file_extension": ".py",
   "mimetype": "text/x-python",
   "name": "python",
   "nbconvert_exporter": "python",
   "pygments_lexer": "ipython3",
   "version": "3.8.10"
  }
 },
 "nbformat": 4,
 "nbformat_minor": 5
}
