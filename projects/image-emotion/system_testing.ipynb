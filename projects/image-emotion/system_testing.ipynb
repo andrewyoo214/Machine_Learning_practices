{
 "cells": [
  {
   "cell_type": "code",
   "execution_count": null,
   "id": "21547627-a358-495c-ba08-963126b78e31",
   "metadata": {},
   "outputs": [],
   "source": [
    "import torch\n",
    "import torch.nn as nn\n",
    "from PIL import Image\n",
    "from torchvision import transforms, datasets, models\n",
    "DEVICE = torch.device('cpu')\n",
    "\n",
    "def image_emotion(data, model):\n",
    "    ## get data\n",
    "    img = data\n",
    "    ## data transform for training\n",
    "    transform = transforms.Compose([\n",
    "        transforms.Resize((227, 227)),\n",
    "        transforms.ToTensor()\n",
    "    ])\n",
    "    img_t = transform(img).to(DEVICE)\n",
    "    ## resize to batch\n",
    "    batch_t = torch.unsqueeze(img_t, 0)\n",
    "    ## set the classes\n",
    "    classes = ('anger', 'fear', 'happiness', 'sadness')\n",
    "    ## model evaluate\n",
    "    model.eval() \n",
    "    ## inference\n",
    "    out = model(batch_t).to(DEVICE)\n",
    "    _, predicted = torch.sort(out, descending = True)\n",
    "    print(\"predicted emotion is:\", [(classes[idx]) for idx in predicted[0][:1]])\n",
    "\n",
    "data = Image.open('E:/RESEARCH/Datasets/image_emotion/sample_s.jpg')\n",
    "model_ = models.resnet18(pretrained=True).to(DEVICE)\n",
    "model_.fc = nn.Linear(in_features = 512, out_features = 4).to(DEVICE)\n",
    "model = model_.to(DEVICE)\n",
    "model.load_state_dict(torch.load('E:/RESEARCH/Datasets/image_emotion/model_weights.pth'))\n",
    "\n",
    "image_emotion(data, model)"
   ]
  }
 ],
 "metadata": {
  "kernelspec": {
   "display_name": "Python 3",
   "language": "python",
   "name": "python3"
  },
  "language_info": {
   "codemirror_mode": {
    "name": "ipython",
    "version": 3
   },
   "file_extension": ".py",
   "mimetype": "text/x-python",
   "name": "python",
   "nbconvert_exporter": "python",
   "pygments_lexer": "ipython3",
   "version": "3.8.10"
  }
 },
 "nbformat": 4,
 "nbformat_minor": 5
}
