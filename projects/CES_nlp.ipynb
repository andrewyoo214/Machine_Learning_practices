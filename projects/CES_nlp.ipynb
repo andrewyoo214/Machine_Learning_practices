{
 "cells": [
  {
   "cell_type": "code",
   "execution_count": 17,
   "id": "fb2da7c3",
   "metadata": {},
   "outputs": [],
   "source": [
    "import requests\n",
    "import json\n",
    "import io\n",
    "import matplotlib.pyplot as plt\n",
    "import time"
   ]
  },
  {
   "cell_type": "code",
   "execution_count": 28,
   "id": "e1da9883",
   "metadata": {},
   "outputs": [
    {
     "name": "stdout",
     "output_type": "stream",
     "text": [
      "0.4578583240509033\n"
     ]
    }
   ],
   "source": [
    "start = time.time()\n",
    "\n",
    "url = \"http://125.6.38.196:5000/echo_call\" #ec2 인스턴스의 퍼블릭 ip/탄력적 ip를 써야한다\n",
    "data = {\"context\": \"do you live in korea?\"}\n",
    "res = requests.post(url=url, json=data)\n",
    "\n",
    "end = time.time()\n",
    "\n",
    "print(end-start)"
   ]
  },
  {
   "cell_type": "code",
   "execution_count": 29,
   "id": "3e70b403",
   "metadata": {},
   "outputs": [],
   "source": [
    "received = res.content\n",
    "convert = json.loads(received.decode(\"utf-8\"))"
   ]
  },
  {
   "cell_type": "code",
   "execution_count": 30,
   "id": "f16ec6f0",
   "metadata": {},
   "outputs": [
    {
     "data": {
      "text/plain": [
       "dict"
      ]
     },
     "execution_count": 30,
     "metadata": {},
     "output_type": "execute_result"
    }
   ],
   "source": [
    "type(convert)"
   ]
  },
  {
   "cell_type": "code",
   "execution_count": 31,
   "id": "729c7023",
   "metadata": {},
   "outputs": [
    {
     "name": "stdout",
     "output_type": "stream",
     "text": [
      "dict_keys(['response'])\n"
     ]
    }
   ],
   "source": [
    "print(convert.keys())"
   ]
  },
  {
   "cell_type": "code",
   "execution_count": 32,
   "id": "dad3538d",
   "metadata": {},
   "outputs": [
    {
     "name": "stdout",
     "output_type": "stream",
     "text": [
      "i live in the united states , in new york city .\n"
     ]
    }
   ],
   "source": [
    "print(convert['response'])"
   ]
  },
  {
   "cell_type": "code",
   "execution_count": null,
   "id": "beaf15d9",
   "metadata": {},
   "outputs": [],
   "source": []
  }
 ],
 "metadata": {
  "kernelspec": {
   "display_name": "Python 3 (ipykernel)",
   "language": "python",
   "name": "python3"
  },
  "language_info": {
   "codemirror_mode": {
    "name": "ipython",
    "version": 3
   },
   "file_extension": ".py",
   "mimetype": "text/x-python",
   "name": "python",
   "nbconvert_exporter": "python",
   "pygments_lexer": "ipython3",
   "version": "3.9.17"
  }
 },
 "nbformat": 4,
 "nbformat_minor": 5
}
