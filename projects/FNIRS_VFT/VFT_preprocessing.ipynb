{
 "cells": [
  {
   "cell_type": "markdown",
   "id": "1bb05183-b079-4b2a-add6-21c4d555fa15",
   "metadata": {},
   "source": [
    "# VFT Preprocessing"
   ]
  },
  {
   "cell_type": "markdown",
   "id": "897a5cad-5f59-4f1b-8b31-7eaffec929cc",
   "metadata": {},
   "source": [
    "## Library settings"
   ]
  },
  {
   "cell_type": "code",
   "execution_count": 9,
   "id": "24b5de10-ddcf-4593-89d3-16a776a22a28",
   "metadata": {},
   "outputs": [],
   "source": [
    "import os, sys, random, time, glob, warnings, shutil\n",
    "import urllib\n",
    "import librosa\n",
    "import librosa.display\n",
    "import sklearn\n",
    "import torch\n",
    "import torchvision\n",
    "import numpy as np\n",
    "import pandas as pd\n",
    "import seaborn as sns\n",
    "import matplotlib.pyplot as plt\n",
    "import IPython.display as ipd"
   ]
  },
  {
   "cell_type": "code",
   "execution_count": 10,
   "id": "efa3798c-e16b-4804-b71a-da8eb0b596c4",
   "metadata": {},
   "outputs": [],
   "source": [
    "from PIL import Image\n",
    "from tqdm import tqdm"
   ]
  },
  {
   "cell_type": "code",
   "execution_count": 11,
   "id": "66631396-0ba3-4b0e-bc0f-609bf28f5af4",
   "metadata": {},
   "outputs": [
    {
     "name": "stdout",
     "output_type": "stream",
     "text": [
      "Current working directory is: C:\\Users\\user\\Jupyter\\ML_practices\\projects\\FNIRS_VFT\n"
     ]
    }
   ],
   "source": [
    "directory = os.getcwd()\n",
    "print(\"Current working directory is:\", directory)\n",
    "\n",
    "warnings.filterwarnings('ignore') ## ignoring warning messages"
   ]
  },
  {
   "cell_type": "code",
   "execution_count": null,
   "id": "a36e2d09-297d-43f1-9bbe-a968db3a6440",
   "metadata": {},
   "outputs": [],
   "source": []
  },
  {
   "cell_type": "code",
   "execution_count": null,
   "id": "fc12be8c-492a-4abd-9fd0-e5a58ec9d7e9",
   "metadata": {},
   "outputs": [],
   "source": []
  },
  {
   "cell_type": "markdown",
   "id": "38ad15fb-17ea-4c01-89f7-bd0860dcda9d",
   "metadata": {},
   "source": [
    "## MFCC convert trials"
   ]
  },
  {
   "cell_type": "markdown",
   "id": "869426cd-8d7e-4fc3-9d43-bdd7a0f29e21",
   "metadata": {},
   "source": [
    "### Previous Trials"
   ]
  },
  {
   "cell_type": "code",
   "execution_count": null,
   "id": "ad1b9906-92c5-4465-b5f7-1a130a2ed55b",
   "metadata": {},
   "outputs": [],
   "source": [
    "audio_path = \"E:/RESEARCH/BRAIN/research_data/VFT/1/VerbalFluencyTest-001-1Stimulus-2.wav\""
   ]
  },
  {
   "cell_type": "code",
   "execution_count": null,
   "id": "17d4fd82-1304-48d6-a9be-bddf977c7356",
   "metadata": {},
   "outputs": [],
   "source": [
    "sample_rate = 22050\n",
    "\n",
    "x = librosa.load(audio_path, sample_rate)[0]\n",
    "S = librosa.feature.melspectrogram(x, sr=sample_rate, n_mels=128)\n",
    "log_S = librosa.power_to_db(S, ref=np.max)\n",
    "mfcc = librosa.feature.mfcc(S=log_S, n_mfcc=5)\n",
    "\n",
    "delta2_mfcc = librosa.feature.delta(mfcc, order=2)"
   ]
  },
  {
   "cell_type": "code",
   "execution_count": null,
   "id": "a24e0d89-54fc-413e-9ea7-2061ece608a2",
   "metadata": {},
   "outputs": [],
   "source": [
    "plt.figure(figsize=(12, 4))\n",
    "librosa.display.specshow(delta2_mfcc)\n",
    "plt.ylabel('MFCC coeffs')\n",
    "plt.xlabel('Time')\n",
    "plt.title('MFCC')\n",
    "plt.colorbar()\n",
    "plt.tight_layout()"
   ]
  },
  {
   "cell_type": "code",
   "execution_count": null,
   "id": "a3edfcb1-a361-44a0-821b-b30a85e3074b",
   "metadata": {},
   "outputs": [],
   "source": []
  },
  {
   "cell_type": "markdown",
   "id": "24a8280c-99d0-4bf4-bf02-7dc906b18376",
   "metadata": {},
   "source": [
    "### New Trials"
   ]
  },
  {
   "cell_type": "code",
   "execution_count": null,
   "id": "2756541d-ff42-4ae2-8532-6838831e31de",
   "metadata": {},
   "outputs": [],
   "source": [
    "x, sr = librosa.load(audio_path) ## sr:Sample Rate\n",
    "print(\"Time series x is:\", x, \"\\nSampling rate sr is:\", sr)"
   ]
  },
  {
   "cell_type": "markdown",
   "id": "80e6f949-d55e-42f5-b1a5-10882fe954e4",
   "metadata": {},
   "source": [
    "* Checking waveform"
   ]
  },
  {
   "cell_type": "code",
   "execution_count": null,
   "id": "a748b18c-217c-452a-978a-d7bc80f88986",
   "metadata": {},
   "outputs": [],
   "source": [
    "plt.figure(figsize = (20,5))\n",
    "librosa.display.waveshow(x, sr = sr)"
   ]
  },
  {
   "cell_type": "code",
   "execution_count": null,
   "id": "c5a8cefd-74bd-4532-93ae-d431b10cc290",
   "metadata": {},
   "outputs": [],
   "source": []
  },
  {
   "cell_type": "markdown",
   "id": "3ccc6e1f-2460-46c5-829c-35856014ae3b",
   "metadata": {},
   "source": [
    "* Spectrogram"
   ]
  },
  {
   "cell_type": "code",
   "execution_count": null,
   "id": "daaa49bf-aa56-4e1a-ba92-6b52c996253b",
   "metadata": {},
   "outputs": [],
   "source": [
    "X = librosa.stft(x)\n",
    "Xdb = librosa.amplitude_to_db(abs(X))\n",
    "plt.figure(figsize=(20, 5))\n",
    "librosa.display.specshow(Xdb, sr=sr, x_axis='time', y_axis='hz')\n",
    "plt.colorbar()"
   ]
  },
  {
   "cell_type": "code",
   "execution_count": null,
   "id": "2272d671-4771-4c26-8f14-224550ef6dac",
   "metadata": {},
   "outputs": [],
   "source": []
  },
  {
   "cell_type": "markdown",
   "id": "41d7bbe4-a8d9-4be8-a382-94c62f904e14",
   "metadata": {},
   "source": [
    "* Log frequency axis"
   ]
  },
  {
   "cell_type": "code",
   "execution_count": null,
   "id": "1ecdbf7f-0fe1-4f01-8149-55d268a6d6b4",
   "metadata": {},
   "outputs": [],
   "source": [
    "librosa.display.specshow(Xdb, sr=sr, x_axis='time', y_axis='log')\n",
    "plt.colorbar()"
   ]
  },
  {
   "cell_type": "code",
   "execution_count": null,
   "id": "97e03a28-0d95-4426-9fb0-0e2d98c23ad5",
   "metadata": {},
   "outputs": [],
   "source": []
  },
  {
   "cell_type": "markdown",
   "id": "d4f72a4d-8d53-4ca9-a72b-a28c1d4695aa",
   "metadata": {},
   "source": [
    "* Zero Crossing Rate"
   ]
  },
  {
   "cell_type": "code",
   "execution_count": null,
   "id": "8c23c1bf-1b78-41b3-abd4-38da2f16db58",
   "metadata": {},
   "outputs": [],
   "source": [
    "# Zooming in\n",
    "n0 = 9000\n",
    "n1 = 9100\n",
    "plt.figure(figsize=(20, 5))\n",
    "plt.plot(x[n0:n1])\n",
    "plt.grid()"
   ]
  },
  {
   "cell_type": "code",
   "execution_count": null,
   "id": "718c5ae1-3875-472a-9de5-b171f479dff6",
   "metadata": {},
   "outputs": [],
   "source": [
    "zero_crossings = librosa.zero_crossings(x[n0:n1], pad=False)\n",
    "zero_crossings.shape"
   ]
  },
  {
   "cell_type": "code",
   "execution_count": null,
   "id": "e08c9a34-5709-499a-b525-954f21221f44",
   "metadata": {},
   "outputs": [],
   "source": [
    "print(sum(zero_crossings))"
   ]
  },
  {
   "cell_type": "code",
   "execution_count": null,
   "id": "d1921ee9-034e-4dd1-ac84-e10a69d0f690",
   "metadata": {},
   "outputs": [],
   "source": []
  },
  {
   "cell_type": "markdown",
   "id": "36439101-1515-43cc-bc9d-dc753c44dce9",
   "metadata": {},
   "source": [
    "* Spectral Centroid"
   ]
  },
  {
   "cell_type": "code",
   "execution_count": null,
   "id": "8991033f-7bb1-4ee3-bf6b-020f516a60ff",
   "metadata": {},
   "outputs": [],
   "source": [
    "spectral_centroids = librosa.feature.spectral_centroid(x, sr=sr)[0]\n",
    "spectral_centroids.shape"
   ]
  },
  {
   "cell_type": "code",
   "execution_count": null,
   "id": "df1d3b38-b3bf-478d-8f6f-4cc2764e7deb",
   "metadata": {},
   "outputs": [],
   "source": [
    "# Computing the time variable for visualization\n",
    "plt.figure(figsize=(20,5))\n",
    "frames = range(len(spectral_centroids))\n",
    "t = librosa.frames_to_time(frames)\n",
    "\n",
    "# Normalising the spectral centroid for visualisation\n",
    "def normalize(x, axis=0):\n",
    "    return sklearn.preprocessing.minmax_scale(x, axis=axis)\n",
    "\n",
    "#Plotting the Spectral Centroid along the waveform\n",
    "librosa.display.waveshow(x, sr=sr, alpha=0.4)\n",
    "plt.plot(t, normalize(spectral_centroids), color='r')"
   ]
  },
  {
   "cell_type": "code",
   "execution_count": null,
   "id": "67cf6952-b4ea-4a28-b3ee-7a53b9504bf6",
   "metadata": {},
   "outputs": [],
   "source": []
  },
  {
   "cell_type": "markdown",
   "id": "7c0c8811-f625-4c02-be74-e6c09e66f00d",
   "metadata": {},
   "source": [
    "* Spectral Rolloff"
   ]
  },
  {
   "cell_type": "code",
   "execution_count": null,
   "id": "49d2e35d-9970-4d47-a834-db6588c609eb",
   "metadata": {},
   "outputs": [],
   "source": [
    "plt.figure(figsize=(20,5))\n",
    "spectral_rolloff = librosa.feature.spectral_rolloff(x+0.01, sr=sr)[0]\n",
    "librosa.display.waveshow(x, sr=sr, alpha=0.4)\n",
    "plt.plot(t, normalize(spectral_rolloff), color='r')\n",
    "plt.grid()"
   ]
  },
  {
   "cell_type": "code",
   "execution_count": null,
   "id": "aa977f7e-444a-4e43-ae25-8c1299547e00",
   "metadata": {},
   "outputs": [],
   "source": []
  },
  {
   "cell_type": "markdown",
   "id": "85529671-9ea6-469e-a36a-0c2a918ea474",
   "metadata": {},
   "source": [
    "* MFCC"
   ]
  },
  {
   "cell_type": "code",
   "execution_count": null,
   "id": "4daf2c66-4751-471b-993d-734c204e3387",
   "metadata": {},
   "outputs": [],
   "source": [
    "plt.figure(figsize=(20,5))\n",
    "x, fs = librosa.load(audio_path)\n",
    "librosa.display.waveshow(x, sr=sr)"
   ]
  },
  {
   "cell_type": "code",
   "execution_count": null,
   "id": "ef0b73ef-22ff-4521-acbb-eb129fb324cc",
   "metadata": {},
   "outputs": [],
   "source": [
    "# MFCC\n",
    "plt.figure(figsize=(20,5))\n",
    "mfccs = librosa.feature.mfcc(x, sr=sr)\n",
    "print(mfccs.shape)\n",
    "\n",
    "# librosa.display.specshow(mfccs, sr=sr, x_axis='time')\n",
    "librosa.display.specshow(mfccs, sr=sr)"
   ]
  },
  {
   "cell_type": "code",
   "execution_count": null,
   "id": "fe1a69be-26a6-473a-ab97-2fa145bc2abb",
   "metadata": {},
   "outputs": [],
   "source": []
  },
  {
   "cell_type": "markdown",
   "id": "c1ea7b5f-f215-43ac-b33e-944847df38a8",
   "metadata": {},
   "source": [
    "* Feature Scaling"
   ]
  },
  {
   "cell_type": "code",
   "execution_count": null,
   "id": "ea4ca8fd-7fc5-494a-b36f-9f31464b4bdf",
   "metadata": {},
   "outputs": [],
   "source": [
    "mfccs = sklearn.preprocessing.scale(mfccs, axis=1)\n",
    "print(mfccs.mean(axis=1))\n",
    "print(mfccs.var(axis=1))"
   ]
  },
  {
   "cell_type": "code",
   "execution_count": null,
   "id": "cb454a0e-a888-4686-9f6b-3eab30384b34",
   "metadata": {},
   "outputs": [],
   "source": [
    "plt.figure(figsize=(20,5))\n",
    "# librosa.display.specshow(mfccs, sr=sr, x_axis='time')\n",
    "librosa.display.specshow(mfccs, sr=sr)"
   ]
  },
  {
   "cell_type": "code",
   "execution_count": null,
   "id": "3919375c-c9e2-47a9-8097-34bf0001b813",
   "metadata": {},
   "outputs": [],
   "source": []
  },
  {
   "cell_type": "markdown",
   "id": "e7bcd5ba-bcb9-45ae-a56e-562b0b6e1f86",
   "metadata": {},
   "source": [
    "* Chroma Frequencies"
   ]
  },
  {
   "cell_type": "code",
   "execution_count": null,
   "id": "6080737c-3c8a-4e70-a1f7-6700c6fdedcf",
   "metadata": {},
   "outputs": [],
   "source": [
    "# Loadign the file\n",
    "x, sr = librosa.load(audio_path)\n",
    "ipd.Audio(x, rate=sr)"
   ]
  },
  {
   "cell_type": "code",
   "execution_count": null,
   "id": "0e9e658a-64d6-4db8-a4b8-ec2fdbb25571",
   "metadata": {},
   "outputs": [],
   "source": [
    "hop_length = 512\n",
    "chromagram = librosa.feature.chroma_stft(x, sr=sr, hop_length=hop_length)\n",
    "plt.figure(figsize=(20, 5))\n",
    "\n",
    "# librosa.display.specshow(chromagram, x_axis='time', y_axis='chroma', hop_length=hop_length, cmap='coolwarm')\n",
    "librosa.display.specshow(chromagram, hop_length=hop_length, cmap='coolwarm')"
   ]
  },
  {
   "cell_type": "code",
   "execution_count": null,
   "id": "2b4ff513-b79a-4097-bb8e-cd59bf35657e",
   "metadata": {},
   "outputs": [],
   "source": []
  },
  {
   "cell_type": "code",
   "execution_count": null,
   "id": "584da667-f245-4535-aacb-1a3337b5bec2",
   "metadata": {},
   "outputs": [],
   "source": []
  },
  {
   "cell_type": "markdown",
   "id": "8e4c3883-a733-4570-9d2c-42887268610c",
   "metadata": {},
   "source": [
    "---"
   ]
  },
  {
   "cell_type": "markdown",
   "id": "df7e51f0-234c-4eb1-8da8-b73b79faccaa",
   "metadata": {},
   "source": [
    "## Dataset settings"
   ]
  },
  {
   "cell_type": "code",
   "execution_count": null,
   "id": "0d3e013d-57ea-4b06-a6c7-5c8c91399594",
   "metadata": {},
   "outputs": [],
   "source": [
    "vft_dir = \"E:/RESEARCH/BRAIN/research_data/VFT/\"\n",
    "vft_file_names = os.listdir(vft_dir)"
   ]
  },
  {
   "cell_type": "code",
   "execution_count": null,
   "id": "bc6d8fb6-25f0-498e-b55f-a64acf6c6835",
   "metadata": {},
   "outputs": [],
   "source": [
    "## removing unnecessary files except for the wave file\n",
    "def removing_unnec_files(path):\n",
    "    i = 1\n",
    "    for i in range(1, len(os.listdir(path))-1):\n",
    "#         [os.remove(file) for file in glob.glob(path + str(i) + '/*.xml')]\n",
    "#         [os.remove(file) for file in glob.glob(path + str(i) + '/*.edat3')]\n",
    "#         [os.remove(file) for file in glob.glob(path + str(i) + '/*.txt')]\n",
    "        \n",
    "#         [os.remove(file) for file in glob.glob(path + str(i) + '/*.png')]\n",
    "        [os.remove(file) for file in glob.glob(path + str(i) + '/*.wav')]\n",
    "        i += 1"
   ]
  },
  {
   "cell_type": "code",
   "execution_count": null,
   "id": "f66621fb-db89-4d3d-bff7-4526e26b825b",
   "metadata": {},
   "outputs": [],
   "source": [
    "removing_unnec_files(vft_dir)"
   ]
  },
  {
   "cell_type": "code",
   "execution_count": null,
   "id": "c2a4b9e8-9683-454e-b642-a06781e098bc",
   "metadata": {},
   "outputs": [],
   "source": [
    "## removing all files including \"BaseLine\" \n",
    "def removing_baseline(path):\n",
    "    i = 1\n",
    "    for i in range(1, len(os.listdir(path))-1):\n",
    "        [os.remove(file) for file in glob.glob(path + str(i) + '/*BaseLine*')]\n",
    "        i += 1"
   ]
  },
  {
   "cell_type": "code",
   "execution_count": null,
   "id": "30f7d72a-4712-447b-b1e4-881953c8619e",
   "metadata": {},
   "outputs": [],
   "source": [
    "removing_baseline(vft_dir)"
   ]
  },
  {
   "cell_type": "code",
   "execution_count": null,
   "id": "f349503a-ffcf-4134-844e-50e16c1ebd9e",
   "metadata": {},
   "outputs": [],
   "source": []
  },
  {
   "cell_type": "code",
   "execution_count": null,
   "id": "3e9fdbd1-a812-46b5-8a67-dca300b1f2ef",
   "metadata": {},
   "outputs": [],
   "source": [
    "def convert_mfcc(wav):\n",
    "    x, sr = librosa.load(wav)\n",
    "    plt.figure(figsize = (10, 10))\n",
    "    mfccs = librosa.feature.mfcc(x, sr = sr)\n",
    "    mfccs = sklearn.preprocessing.scale(mfccs, axis=1)\n",
    "    librosa.display.specshow(mfccs, sr=sr)\n",
    "    plt.savefig(wav + '.png')"
   ]
  },
  {
   "cell_type": "code",
   "execution_count": null,
   "id": "510122bf-613b-4168-9530-4f32aa77c219",
   "metadata": {},
   "outputs": [],
   "source": [
    "def wav_to_mfcc(path):\n",
    "    i = 1\n",
    "    for i in range(1, len(os.listdir(path))-1):\n",
    "        direc = path + str(i) + '/'\n",
    "        for file in os.listdir(direc):\n",
    "            convert_mfcc(direc + file)\n",
    "        i += 1"
   ]
  },
  {
   "cell_type": "code",
   "execution_count": null,
   "id": "c40dadd1-1b5e-44c6-9a9b-bd3bf54d2744",
   "metadata": {},
   "outputs": [],
   "source": [
    "# wav_to_mfcc(vft_dir)"
   ]
  },
  {
   "cell_type": "code",
   "execution_count": null,
   "id": "e921b0a2-bcab-4327-8cc6-a3a3a54746ff",
   "metadata": {},
   "outputs": [],
   "source": []
  },
  {
   "cell_type": "code",
   "execution_count": null,
   "id": "5cedfaa7-8d5e-47af-b5b6-fc886cfd0a90",
   "metadata": {},
   "outputs": [],
   "source": [
    "dp = ['7','8','9','12','16','17','18','21','28','30','33','48','49','50','51','52','53','58','64','72','75','77','78','80','81','93','96','100','102','103','104','107','110','118','119']\n",
    "hc = ['1','5','11','13','15','20','22','23','24','26','27','29','31','32','34','35','36','37','38','40','41','42','43','44','45','46','56','57','59','60','61','62','63','65','66','67','68',\n",
    "      '69','70','74','82','83','85','86','87','88','89','91','94','95','105','106','108','109','111','112','113','115','117']\n",
    "si = ['2','3','4','6','10','14','19','25','39','47','54','55','71','73','76','79','84','90','92','97','98','99','101','114','116']"
   ]
  },
  {
   "cell_type": "code",
   "execution_count": null,
   "id": "e9a6d440-7d32-4eba-8dd0-7969df074293",
   "metadata": {},
   "outputs": [],
   "source": [
    "len(si)"
   ]
  },
  {
   "cell_type": "code",
   "execution_count": null,
   "id": "31022181-7bc1-42ff-9df4-8d9160743986",
   "metadata": {},
   "outputs": [],
   "source": [
    "# for folder in vft_file_names:\n",
    "#     if folder in dp:\n",
    "#         shutil.move(vft_dir + folder, \"E:/RESEARCH/BRAIN/research_data/VFT/DP/\")\n",
    "#     elif folder in hc:\n",
    "#         shutil.move(vft_dir + folder, \"E:/RESEARCH/BRAIN/research_data/VFT/HC/\")\n",
    "#     else:\n",
    "#         shutil.move(vft_dir + folder, \"E:/RESEARCH/BRAIN/research_data/VFT/SI/\")"
   ]
  },
  {
   "cell_type": "code",
   "execution_count": null,
   "id": "722e1aaa-b6d0-4153-bca3-7f1edcd7f309",
   "metadata": {},
   "outputs": [],
   "source": []
  },
  {
   "cell_type": "code",
   "execution_count": 15,
   "id": "5d709475-0f0a-4557-be18-66f51bd53b0d",
   "metadata": {},
   "outputs": [],
   "source": [
    "file_path = \"E:/RESEARCH/BRAIN/research_data/VFT_2CLASS/DP\"\n",
    "file_names = os.listdir(file_path)\n",
    "\n",
    "# Changing file names into numerical order\n",
    "i = 1\n",
    "for name in file_names:\n",
    "    src = os.path.join(file_path, name)\n",
    "    dst = str(i) + '.png'\n",
    "    dst = os.path.join(file_path, dst)\n",
    "    os.rename(src, dst)\n",
    "    i += 1"
   ]
  },
  {
   "cell_type": "code",
   "execution_count": null,
   "id": "016eb150-71d2-4a11-b040-49cf779931cd",
   "metadata": {},
   "outputs": [],
   "source": []
  }
 ],
 "metadata": {
  "kernelspec": {
   "display_name": "Python 3",
   "language": "python",
   "name": "python3"
  },
  "language_info": {
   "codemirror_mode": {
    "name": "ipython",
    "version": 3
   },
   "file_extension": ".py",
   "mimetype": "text/x-python",
   "name": "python",
   "nbconvert_exporter": "python",
   "pygments_lexer": "ipython3",
   "version": "3.8.10"
  }
 },
 "nbformat": 4,
 "nbformat_minor": 5
}
