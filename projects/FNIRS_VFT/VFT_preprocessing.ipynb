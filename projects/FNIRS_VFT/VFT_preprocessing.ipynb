{
 "cells": [
  {
   "cell_type": "markdown",
   "id": "1bb05183-b079-4b2a-add6-21c4d555fa15",
   "metadata": {},
   "source": [
    "# VFT Preprocessing"
   ]
  },
  {
   "cell_type": "markdown",
   "id": "897a5cad-5f59-4f1b-8b31-7eaffec929cc",
   "metadata": {},
   "source": [
    "## Library settings"
   ]
  },
  {
   "cell_type": "code",
   "execution_count": null,
   "id": "24b5de10-ddcf-4593-89d3-16a776a22a28",
   "metadata": {},
   "outputs": [],
   "source": [
    "import os, sys, random, time, glob\n",
    "import urllib\n",
    "import librosa\n",
    "import librosa.display\n",
    "import torch\n",
    "import torchvision\n",
    "import numpy as np\n",
    "import pandas as pd\n",
    "import seaborn as sns\n",
    "import matplotlib.pyplot as plt "
   ]
  },
  {
   "cell_type": "code",
   "execution_count": null,
   "id": "efa3798c-e16b-4804-b71a-da8eb0b596c4",
   "metadata": {},
   "outputs": [],
   "source": [
    "from PIL import Image\n",
    "from tqdm import tqdm"
   ]
  },
  {
   "cell_type": "code",
   "execution_count": null,
   "id": "66631396-0ba3-4b0e-bc0f-609bf28f5af4",
   "metadata": {},
   "outputs": [],
   "source": [
    "directory = os.getcwd()\n",
    "print(\"Current working directory is:\", directory)"
   ]
  },
  {
   "cell_type": "code",
   "execution_count": null,
   "id": "a36e2d09-297d-43f1-9bbe-a968db3a6440",
   "metadata": {},
   "outputs": [],
   "source": []
  },
  {
   "cell_type": "code",
   "execution_count": null,
   "id": "fc12be8c-492a-4abd-9fd0-e5a58ec9d7e9",
   "metadata": {},
   "outputs": [],
   "source": []
  },
  {
   "cell_type": "markdown",
   "id": "38ad15fb-17ea-4c01-89f7-bd0860dcda9d",
   "metadata": {},
   "source": [
    "## MFCC convert trials"
   ]
  },
  {
   "cell_type": "code",
   "execution_count": null,
   "id": "ad1b9906-92c5-4465-b5f7-1a130a2ed55b",
   "metadata": {},
   "outputs": [],
   "source": [
    "path = \"E:/RESEARCH/BRAIN/research_data/VFT/001/VerbalFluencyTest-001-1Stimulus-2.wav\""
   ]
  },
  {
   "cell_type": "code",
   "execution_count": null,
   "id": "17d4fd82-1304-48d6-a9be-bddf977c7356",
   "metadata": {},
   "outputs": [],
   "source": [
    "sample_rate=16000\n",
    "\n",
    "x = librosa.load(path,sample_rate)[0]\n",
    "S = librosa.feature.melspectrogram(x, sr=sample_rate, n_mels=128)\n",
    "log_S = librosa.power_to_db(S, ref=np.max)\n",
    "mfcc = librosa.feature.mfcc(S=log_S, n_mfcc=20)\n",
    "\n",
    "delta2_mfcc = librosa.feature.delta(mfcc, order=2)"
   ]
  },
  {
   "cell_type": "code",
   "execution_count": null,
   "id": "a24e0d89-54fc-413e-9ea7-2061ece608a2",
   "metadata": {},
   "outputs": [],
   "source": [
    "plt.figure(figsize=(12, 4))\n",
    "librosa.display.specshow(delta2_mfcc)\n",
    "plt.ylabel('MFCC coeffs')\n",
    "plt.xlabel('Time')\n",
    "plt.title('MFCC')\n",
    "plt.colorbar()\n",
    "plt.tight_layout()"
   ]
  },
  {
   "cell_type": "code",
   "execution_count": null,
   "id": "a3edfcb1-a361-44a0-821b-b30a85e3074b",
   "metadata": {},
   "outputs": [],
   "source": []
  },
  {
   "cell_type": "markdown",
   "id": "8e4c3883-a733-4570-9d2c-42887268610c",
   "metadata": {},
   "source": [
    "---"
   ]
  },
  {
   "cell_type": "markdown",
   "id": "df7e51f0-234c-4eb1-8da8-b73b79faccaa",
   "metadata": {},
   "source": [
    "## Dataset settings"
   ]
  },
  {
   "cell_type": "code",
   "execution_count": null,
   "id": "0d3e013d-57ea-4b06-a6c7-5c8c91399594",
   "metadata": {},
   "outputs": [],
   "source": [
    "vft_dir = \"E:/RESEARCH/BRAIN/research_data/VFT/\"\n",
    "vft_file_names = os.listdir(vft_dir)"
   ]
  },
  {
   "cell_type": "code",
   "execution_count": null,
   "id": "bc6d8fb6-25f0-498e-b55f-a64acf6c6835",
   "metadata": {},
   "outputs": [],
   "source": [
    "## removing unnecessary files except for the wave file\n",
    "def removing_unnec_files(path):\n",
    "    i = 1\n",
    "    for i in range(0, len(os.listdir(path))):\n",
    "        [os.remove(file) for file in glob.glob(path + str(i) + '/*.xml')]\n",
    "        [os.remove(file) for file in glob.glob(path + str(i) + '/*.edat3')]\n",
    "        [os.remove(file) for file in glob.glob(path + str(i) + '/*.txt')]\n",
    "        i += 1"
   ]
  },
  {
   "cell_type": "code",
   "execution_count": null,
   "id": "f66621fb-db89-4d3d-bff7-4526e26b825b",
   "metadata": {},
   "outputs": [],
   "source": [
    "removing_unnec_files(vft_dir)"
   ]
  },
  {
   "cell_type": "code",
   "execution_count": null,
   "id": "6ee25adb-1f5a-4b38-82d8-059428b8a2e9",
   "metadata": {},
   "outputs": [],
   "source": []
  },
  {
   "cell_type": "code",
   "execution_count": null,
   "id": "c2a4b9e8-9683-454e-b642-a06781e098bc",
   "metadata": {},
   "outputs": [],
   "source": []
  },
  {
   "cell_type": "code",
   "execution_count": null,
   "id": "30f7d72a-4712-447b-b1e4-881953c8619e",
   "metadata": {},
   "outputs": [],
   "source": []
  },
  {
   "cell_type": "code",
   "execution_count": null,
   "id": "f349503a-ffcf-4134-844e-50e16c1ebd9e",
   "metadata": {},
   "outputs": [],
   "source": []
  },
  {
   "cell_type": "code",
   "execution_count": null,
   "id": "fd3deb9b-a7b0-4d39-b1d2-05a2a559a09f",
   "metadata": {},
   "outputs": [],
   "source": []
  },
  {
   "cell_type": "code",
   "execution_count": null,
   "id": "f23bbb64-9da4-4301-bb1b-b409a6fd235e",
   "metadata": {},
   "outputs": [],
   "source": []
  },
  {
   "cell_type": "code",
   "execution_count": null,
   "id": "5cedfaa7-8d5e-47af-b5b6-fc886cfd0a90",
   "metadata": {},
   "outputs": [],
   "source": []
  },
  {
   "cell_type": "code",
   "execution_count": null,
   "id": "e9a6d440-7d32-4eba-8dd0-7969df074293",
   "metadata": {},
   "outputs": [],
   "source": []
  },
  {
   "cell_type": "code",
   "execution_count": null,
   "id": "31022181-7bc1-42ff-9df4-8d9160743986",
   "metadata": {},
   "outputs": [],
   "source": []
  },
  {
   "cell_type": "code",
   "execution_count": null,
   "id": "722e1aaa-b6d0-4153-bca3-7f1edcd7f309",
   "metadata": {},
   "outputs": [],
   "source": []
  }
 ],
 "metadata": {
  "kernelspec": {
   "display_name": "Python 3",
   "language": "python",
   "name": "python3"
  },
  "language_info": {
   "codemirror_mode": {
    "name": "ipython",
    "version": 3
   },
   "file_extension": ".py",
   "mimetype": "text/x-python",
   "name": "python",
   "nbconvert_exporter": "python",
   "pygments_lexer": "ipython3",
   "version": "3.8.10"
  }
 },
 "nbformat": 4,
 "nbformat_minor": 5
}
