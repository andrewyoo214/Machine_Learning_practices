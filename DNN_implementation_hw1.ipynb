{
 "cells": [
  {
   "cell_type": "markdown",
   "id": "f14256a7-f748-4036-bc2e-0cdb72c3ade6",
   "metadata": {},
   "source": [
    "# AIM5004_HW1"
   ]
  },
  {
   "cell_type": "markdown",
   "id": "763857cf-9ed9-4f2b-bb1a-dc11e57aebb7",
   "metadata": {},
   "source": [
    "* Implementation of MLP (Multilayer Perceptron). You are going to write codes in any programming languages from the scratch. You can use some libraries, e.g. numpy, but you are NOT allowed to use any deep learning libraries, such as. Tensorflow, Pytorch, and JAX.\n",
    "\n",
    "* You should submit the codes as Jupyter notebook, .ipynb file or google colab link. All codes should be executable."
   ]
  },
  {
   "cell_type": "markdown",
   "id": "6cb822c2-5672-49a4-90d3-a0b7e90d2d55",
   "metadata": {},
   "source": [
    "(a) Download MNIST dataset from http://yann.lecun.com/exdb/mnist/ and report the\n",
    "statistics of the dataset, e.g. how many training (and testing) images, the size of each image, the number of class and the number of images per each classes. Normalize data to [0, 1] if necessary. Show random 3 images per each class."
   ]
  },
  {
   "cell_type": "code",
   "execution_count": 14,
   "id": "471d8158-4b9d-4d4c-b0fa-c9844d95cc6c",
   "metadata": {},
   "outputs": [],
   "source": [
    "import os\n",
    "import gzip\n",
    "import numpy as np\n",
    "import idx2numpy"
   ]
  },
  {
   "cell_type": "code",
   "execution_count": 18,
   "id": "09a49a9f-ced3-4364-8fe3-d3dd32adf672",
   "metadata": {},
   "outputs": [],
   "source": [
    "from sklearn.model_selection import train_test_split\n",
    "from sklearn.preprocessing import MinMaxScaler"
   ]
  },
  {
   "cell_type": "markdown",
   "id": "e6ef1e54-4e67-4164-829a-54379735b689",
   "metadata": {},
   "source": [
    "We got 4 data files\n",
    "- train-images-idx3-ubyte.gz\n",
    "- train-labels-idx1-ubyte.gz\n",
    "- t10k-images-idx3-ubyte.gz\n",
    "- t10k-labels-idx1-ubyte.gz"
   ]
  },
  {
   "cell_type": "code",
   "execution_count": 15,
   "id": "05a110d9-41c9-4d77-8a58-86a5efa99e79",
   "metadata": {},
   "outputs": [],
   "source": [
    "## Open gz data downloaded from lecun. - using gzip.open \n",
    "with gzip.open('./data/train-images-idx3-ubyte.gz', 'rb') as f:\n",
    "    train_data = idx2numpy.convert_from_file(f)\n",
    "\n",
    "with gzip.open('./data/train-labels-idx1-ubyte.gz', 'rb') as f:\n",
    "    train_label = idx2numpy.convert_from_file(f)"
   ]
  },
  {
   "cell_type": "code",
   "execution_count": 19,
   "id": "bd9b695d-a3b2-44c0-ae51-42ae6156d9ba",
   "metadata": {},
   "outputs": [],
   "source": [
    "## Resizing training dataset and normalize data\n",
    "train_data = train_data.reshape(len(xtrain),-1)\n",
    "train_label = MinMaxScaler().fit_transform(train_label)"
   ]
  },
  {
   "cell_type": "code",
   "execution_count": 23,
   "id": "a32a5cb5-4f62-4a40-997e-8e3b2f77401a",
   "metadata": {
    "collapsed": true,
    "jupyter": {
     "outputs_hidden": true
    },
    "tags": []
   },
   "outputs": [
    {
     "ename": "IndexError",
     "evalue": "arrays used as indices must be of integer (or boolean) type",
     "output_type": "error",
     "traceback": [
      "\u001b[1;31m---------------------------------------------------------------------------\u001b[0m",
      "\u001b[1;31mIndexError\u001b[0m                                Traceback (most recent call last)",
      "\u001b[1;32m<ipython-input-23-5b370a82f929>\u001b[0m in \u001b[0;36m<module>\u001b[1;34m\u001b[0m\n\u001b[0;32m      4\u001b[0m \u001b[1;33m\u001b[0m\u001b[0m\n\u001b[0;32m      5\u001b[0m \u001b[1;31m## Encoding label values\u001b[0m\u001b[1;33m\u001b[0m\u001b[1;33m\u001b[0m\u001b[1;33m\u001b[0m\u001b[0m\n\u001b[1;32m----> 6\u001b[1;33m \u001b[0mytrain\u001b[0m \u001b[1;33m=\u001b[0m \u001b[0mnp\u001b[0m\u001b[1;33m.\u001b[0m\u001b[0meye\u001b[0m\u001b[1;33m(\u001b[0m\u001b[1;36m10\u001b[0m\u001b[1;33m)\u001b[0m\u001b[1;33m[\u001b[0m\u001b[0mytrain\u001b[0m\u001b[1;33m]\u001b[0m\u001b[1;33m.\u001b[0m\u001b[0mreshape\u001b[0m\u001b[1;33m(\u001b[0m\u001b[0mlen\u001b[0m\u001b[1;33m(\u001b[0m\u001b[0mytrain\u001b[0m\u001b[1;33m)\u001b[0m\u001b[1;33m,\u001b[0m\u001b[1;36m10\u001b[0m\u001b[1;33m)\u001b[0m\u001b[1;33m\u001b[0m\u001b[1;33m\u001b[0m\u001b[0m\n\u001b[0m\u001b[0;32m      7\u001b[0m \u001b[1;33m\u001b[0m\u001b[0m\n\u001b[0;32m      8\u001b[0m \u001b[1;31m# Seperate out the validation set. Note: the random_state parameter will ensure you get the same results as me.\u001b[0m\u001b[1;33m\u001b[0m\u001b[1;33m\u001b[0m\u001b[1;33m\u001b[0m\u001b[0m\n",
      "\u001b[1;31mIndexError\u001b[0m: arrays used as indices must be of integer (or boolean) type"
     ]
    }
   ],
   "source": [
    "## Reshaping the training images to array format\n",
    "xtrain = xtrain.reshape(len(xtrain),-1)\n",
    "xtrain = MinMaxScaler().fit_transform(xtrain)\n",
    "\n",
    "## Encoding label values\n",
    "ytrain = np.eye(10)[ytrain].reshape(len(ytrain),10)\n",
    "\n",
    "## Seperate out the validation set. \n",
    "random_state=\n",
    "xtrain, xval, ytrain, yval = train_test_split(xtrain, ytrain, test_size=10000, random_state=710674)"
   ]
  },
  {
   "cell_type": "code",
   "execution_count": 22,
   "id": "f3503c01-fe60-4201-a17e-70b22e65f625",
   "metadata": {},
   "outputs": [
    {
     "data": {
      "text/plain": [
       "(50000, 784)"
      ]
     },
     "execution_count": 22,
     "metadata": {},
     "output_type": "execute_result"
    }
   ],
   "source": [
    "xtrain.shape"
   ]
  },
  {
   "cell_type": "code",
   "execution_count": null,
   "id": "7266ac01-24ec-4bae-b335-b1ad1a6f510e",
   "metadata": {},
   "outputs": [],
   "source": []
  },
  {
   "cell_type": "markdown",
   "id": "65808e6d-d702-4cd4-b5fb-26dc490b199a",
   "metadata": {},
   "source": [
    "(b) Implement a MLP architecture and write forward pass. You need to implement all\n",
    "following layers, ReLU activation function, and softmax function. You should also\n",
    "implement cross-entropy loss function."
   ]
  },
  {
   "cell_type": "markdown",
   "id": "e78f3747-d47d-4c4d-82fb-3e9c0312b59d",
   "metadata": {},
   "source": [
    "(1) Architecture:\\\n",
    "[Layer 1] → Flatten layer that will flatten image 2D matrix into 1D vector.\\\n",
    "[Layer 2] → Dense layer (fully connected layer) with 128 hidden units, followed\n",
    "by ReLU activation function.\\\n",
    "[Layer 3] → Dense layer (fully connected layer) with 128 hidden units, followed\n",
    "by ReLU activation function.\\\n",
    "[Layer 4] → Output dense layer (fully connected layer) with 10 softmax outputs."
   ]
  },
  {
   "cell_type": "code",
   "execution_count": null,
   "id": "2b77cb8a-cbbf-4770-a546-0a218518ffa4",
   "metadata": {},
   "outputs": [],
   "source": []
  },
  {
   "cell_type": "code",
   "execution_count": null,
   "id": "c8dfe03d-3492-47d7-b48f-24b8bb90622f",
   "metadata": {},
   "outputs": [],
   "source": []
  },
  {
   "cell_type": "code",
   "execution_count": null,
   "id": "d672e400-c47a-4bf0-97f0-e12c4e5247ec",
   "metadata": {},
   "outputs": [],
   "source": []
  },
  {
   "cell_type": "code",
   "execution_count": null,
   "id": "8fdfdde3-3626-4df4-9ffb-ee83fde19f05",
   "metadata": {},
   "outputs": [],
   "source": []
  },
  {
   "cell_type": "markdown",
   "id": "bbdb371c-ed30-4eca-a256-316da2ebc7de",
   "metadata": {},
   "source": [
    "(c) Implement backward pass to compute the gradients w.r.t the parameters. You should check the correctness of your implementation by either (1) using finite difference or (2) using the existing deep learning libraries. Please provide checking codes in the report ."
   ]
  },
  {
   "cell_type": "code",
   "execution_count": null,
   "id": "4ac0dc7b-f062-41ae-985c-04ab573d0b89",
   "metadata": {},
   "outputs": [],
   "source": []
  },
  {
   "cell_type": "code",
   "execution_count": null,
   "id": "8d1104f0-8715-4110-88b0-a30cc69a0a6a",
   "metadata": {},
   "outputs": [],
   "source": []
  },
  {
   "cell_type": "code",
   "execution_count": null,
   "id": "59002f84-1f79-4623-9def-bd290cf429a9",
   "metadata": {},
   "outputs": [],
   "source": []
  },
  {
   "cell_type": "code",
   "execution_count": null,
   "id": "301c0272-7c57-46fe-9efc-37ce3239ff7e",
   "metadata": {},
   "outputs": [],
   "source": []
  },
  {
   "cell_type": "markdown",
   "id": "3da9f6b2-0bd8-4624-b18d-c2aeefd98d37",
   "metadata": {},
   "source": [
    "(d) Implement a stochastic gradient descent (SGD) algorithm and train your model. Please provide training and validation loss curves in a single plot."
   ]
  },
  {
   "cell_type": "code",
   "execution_count": null,
   "id": "99271c69-3339-4c81-92c4-ef621484ca76",
   "metadata": {},
   "outputs": [],
   "source": []
  },
  {
   "cell_type": "code",
   "execution_count": null,
   "id": "0603b0ec-bfce-4ff7-afcf-18fd3c065e58",
   "metadata": {},
   "outputs": [],
   "source": []
  },
  {
   "cell_type": "code",
   "execution_count": null,
   "id": "58375ed1-f701-4390-aded-3d56a77de480",
   "metadata": {},
   "outputs": [],
   "source": []
  },
  {
   "cell_type": "code",
   "execution_count": null,
   "id": "d3275fd9-8e71-4651-87ec-e325603f4ba8",
   "metadata": {},
   "outputs": [],
   "source": []
  },
  {
   "cell_type": "markdown",
   "id": "74720fb7-0de6-4e3e-b5a3-fbb3d90e4f44",
   "metadata": {},
   "source": [
    "(e) Train with different hyperparameters. Try at least 5 different learning rates and minibatch sizes. Plot training and validation curves for all different configurations in a single plot."
   ]
  },
  {
   "cell_type": "code",
   "execution_count": null,
   "id": "3c40a5fe-5ce9-4116-9778-83d7020e55b9",
   "metadata": {},
   "outputs": [],
   "source": []
  },
  {
   "cell_type": "code",
   "execution_count": null,
   "id": "07eca39e-4d59-4e36-9c1e-37e1c0b865d3",
   "metadata": {},
   "outputs": [],
   "source": []
  },
  {
   "cell_type": "code",
   "execution_count": null,
   "id": "892d5fd9-0af0-46ed-8b35-7efbe77daf08",
   "metadata": {},
   "outputs": [],
   "source": []
  }
 ],
 "metadata": {
  "kernelspec": {
   "display_name": "Python 3",
   "language": "python",
   "name": "python3"
  },
  "language_info": {
   "codemirror_mode": {
    "name": "ipython",
    "version": 3
   },
   "file_extension": ".py",
   "mimetype": "text/x-python",
   "name": "python",
   "nbconvert_exporter": "python",
   "pygments_lexer": "ipython3",
   "version": "3.8.10"
  }
 },
 "nbformat": 4,
 "nbformat_minor": 5
}
